{
 "cells": [
  {
   "cell_type": "markdown",
   "metadata": {},
   "source": [
    "# Assignment 12"
   ]
  },
  {
   "cell_type": "markdown",
   "metadata": {},
   "source": [
    "Question 1:For this challenge, forget how to add two numbers together. The best\n",
    "explanation on what to do for this function is this meme:"
   ]
  },
  {
   "cell_type": "code",
   "execution_count": 2,
   "metadata": {},
   "outputs": [
    {
     "name": "stdout",
     "output_type": "stream",
     "text": [
      "1222\n",
      "30277\n"
     ]
    },
    {
     "data": {
      "text/plain": [
       "31499"
      ]
     },
     "execution_count": 2,
     "metadata": {},
     "output_type": "execute_result"
    }
   ],
   "source": [
    "def meme_sum(a,b):\n",
    "    l1 = len(a)\n",
    "    l2 = len(b)\n",
    "    sum1 = \"\"\n",
    "    while l1 < l2:\n",
    "        a = \"0\" + a\n",
    "        l1 = l1 + 1\n",
    "    while l1 > l2:\n",
    "        b = \"0\" + b\n",
    "        l2 = l2 + 1\n",
    "    for i in range(len(a)):\n",
    "        sum1 = sum1 + str(int(a[i]) + int(b[i]))\n",
    "    return int(sum1)\n",
    "m = input()\n",
    "n = input()\n",
    "meme_sum(m,n)"
   ]
  },
  {
   "cell_type": "markdown",
   "metadata": {},
   "source": [
    "Question 2:Given an integer, create a function that returns the next prime. If the\n",
    "number is prime, return the number itself."
   ]
  },
  {
   "cell_type": "code",
   "execution_count": 8,
   "metadata": {},
   "outputs": [
    {
     "name": "stdout",
     "output_type": "stream",
     "text": [
      "24\n",
      "29\n"
     ]
    }
   ],
   "source": [
    "def is_prime(n):\n",
    "    for i in range(2,n):\n",
    "        if n % i == 0:\n",
    "            return False\n",
    "    return n\n",
    "a = int(input())\n",
    "while (is_prime(a)) == False:\n",
    "    a = a + 1\n",
    "print(a)"
   ]
  },
  {
   "cell_type": "markdown",
   "metadata": {},
   "source": [
    "Question 3:If a person traveled up a hill for 18mins at 20mph and then traveled back\n",
    "down the same path at 60mph then their average speed traveled was 30mph.\n",
    "Write a function that returns the average speed traveled given an uphill time,\n",
    "uphill rate and a downhill rate. Uphill time is given in minutes. Return the rate\n",
    "as an integer (mph). No rounding is necessary."
   ]
  },
  {
   "cell_type": "code",
   "execution_count": 13,
   "metadata": {},
   "outputs": [
    {
     "name": "stdout",
     "output_type": "stream",
     "text": [
      "30\n",
      "10\n",
      "30\n"
     ]
    },
    {
     "data": {
      "text/plain": [
       "15"
      ]
     },
     "execution_count": 13,
     "metadata": {},
     "output_type": "execute_result"
    }
   ],
   "source": [
    "def avg_speed(time,speed1,speed2):\n",
    "    time = time/60\n",
    "    dist1 = time * speed1\n",
    "    time2 = dist1 / speed2\n",
    "    avg_speed = (2*dist1)/(time + time2)\n",
    "    return int(avg_speed)\n",
    "a = int(input())\n",
    "b = int(input())\n",
    "c = int(input())\n",
    "avg_speed(a,b,c)"
   ]
  },
  {
   "cell_type": "markdown",
   "metadata": {},
   "source": [
    "Question 4:The Kempner Function, applied to a composite number, permits to find the\n",
    "smallest integer greater than zero whose factorial is exactly divided by the\n",
    "number."
   ]
  },
  {
   "cell_type": "code",
   "execution_count": 19,
   "metadata": {},
   "outputs": [
    {
     "name": "stdout",
     "output_type": "stream",
     "text": [
      "10\n",
      "5\n"
     ]
    }
   ],
   "source": [
    "def is_prime(a):\n",
    "    for i in range(2,a):\n",
    "        if a % i == 0:\n",
    "            return False\n",
    "    return True\n",
    "def fact(m):\n",
    "    assert m > 0 and int(m) == m,\"Invalid Input\"\n",
    "    if m in [0,1]:\n",
    "        return 1\n",
    "    else:\n",
    "        return m * fact(m-1)\n",
    "n = int(input())\n",
    "if is_prime(n) == True:\n",
    "    print(n)\n",
    "else:\n",
    "    for i in range(1,n):\n",
    "        k = fact(i)\n",
    "        if k % n == 0:\n",
    "            print(i)\n",
    "            break\n",
    "            "
   ]
  },
  {
   "cell_type": "markdown",
   "metadata": {},
   "source": [
    "Question 5:You work in a factory, and your job is to take items from a conveyor belt\n",
    "and pack them into boxes. Each box can hold a maximum of 10 kgs. Given a\n",
    "list containing the weight (in kg) of each item, how many boxes would you\n",
    "need to pack all of the items?"
   ]
  },
  {
   "cell_type": "code",
   "execution_count": 21,
   "metadata": {},
   "outputs": [
    {
     "data": {
      "text/plain": [
       "3"
      ]
     },
     "execution_count": 21,
     "metadata": {},
     "output_type": "execute_result"
    }
   ],
   "source": [
    "def boxes(a):\n",
    "    count = 0\n",
    "    sum1 = 0\n",
    "    for i in a:\n",
    "        sum1 = sum1 + i\n",
    "        if sum1 >= 10:\n",
    "            count = count + 1\n",
    "            sum1 = 0\n",
    "    return count\n",
    "lst = [2,1,2,5,4,3,6,1,1,9,3,2]\n",
    "boxes(lst)"
   ]
  },
  {
   "cell_type": "code",
   "execution_count": null,
   "metadata": {},
   "outputs": [],
   "source": []
  }
 ],
 "metadata": {
  "kernelspec": {
   "display_name": "Python 3",
   "language": "python",
   "name": "python3"
  },
  "language_info": {
   "codemirror_mode": {
    "name": "ipython",
    "version": 3
   },
   "file_extension": ".py",
   "mimetype": "text/x-python",
   "name": "python",
   "nbconvert_exporter": "python",
   "pygments_lexer": "ipython3",
   "version": "3.8.3"
  }
 },
 "nbformat": 4,
 "nbformat_minor": 4
}
