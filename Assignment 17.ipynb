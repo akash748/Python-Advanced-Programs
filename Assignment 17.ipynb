{
 "cells": [
  {
   "cell_type": "markdown",
   "metadata": {},
   "source": [
    "# Assignment 17"
   ]
  },
  {
   "cell_type": "markdown",
   "metadata": {},
   "source": [
    "Question 1:Create a function that transposes a 2D matrix."
   ]
  },
  {
   "cell_type": "code",
   "execution_count": 2,
   "metadata": {},
   "outputs": [
    {
     "data": {
      "text/plain": [
       "[[1, 2, 3], [1, 2, 3], [1, 2, 3]]"
      ]
     },
     "execution_count": 2,
     "metadata": {},
     "output_type": "execute_result"
    }
   ],
   "source": [
    "def transpose(a):\n",
    "    matrix = []\n",
    "    \n",
    "    for i in range(len(a[0])):\n",
    "        row = []\n",
    "        for j in range(len(a)):\n",
    "            row.append(a[j][i])\n",
    "        matrix.append(row)\n",
    "    return matrix\n",
    "l = [[1,1,1,],[2,2,2],[3,3,3]]\n",
    "transpose(l)"
   ]
  },
  {
   "cell_type": "markdown",
   "metadata": {},
   "source": [
    "Question 2:Create a function that determines whether a string is a valid hex code.\n",
    "A hex code must begin with a pound key # and is exactly 6 characters in\n",
    "length. Each character must be a digit from 0-9 or an alphabetic character\n",
    "from A-F. All alphabetic characters may be uppercase or lowercase."
   ]
  },
  {
   "cell_type": "code",
   "execution_count": 14,
   "metadata": {},
   "outputs": [
    {
     "name": "stdout",
     "output_type": "stream",
     "text": [
      "#CD5C5C\n"
     ]
    },
    {
     "data": {
      "text/plain": [
       "True"
      ]
     },
     "execution_count": 14,
     "metadata": {},
     "output_type": "execute_result"
    }
   ],
   "source": [
    "def valid_hexcode(a):\n",
    "    counts = 0\n",
    "    hex1 = ['A','B','C','D','E','F']\n",
    "    hex2 = ['a','b','c','d','e','f']\n",
    "    hex3 = [\"0\",\"1\",\"2\",\"3\",\"4\",\"5\",\"6\",\"7\",\"8\",\"9\"]\n",
    "    if (a[0] == \"#\") and (len(a) == 7):\n",
    "        if (a.isupper() == True) or (a.islower() == True):\n",
    "            \n",
    "            for i in range(1,len(a)):\n",
    "                if (a[i] in hex3) or (a[i] in hex1) or (a[i] in hex2):\n",
    "                    counts = counts + 1\n",
    "    if counts == 6:\n",
    "        return True\n",
    "    return False\n",
    "m = input()\n",
    "valid_hexcode(m)"
   ]
  },
  {
   "cell_type": "markdown",
   "metadata": {},
   "source": [
    "Question 3:Given a list of math equations (given as strings), return the percentage of\n",
    "correct answers as a string. Round to the nearest whole number."
   ]
  },
  {
   "cell_type": "code",
   "execution_count": 25,
   "metadata": {},
   "outputs": [
    {
     "data": {
      "text/plain": [
       "67.0"
      ]
     },
     "execution_count": 25,
     "metadata": {},
     "output_type": "execute_result"
    }
   ],
   "source": [
    "def mark_maths(a):\n",
    "    count = 0\n",
    "    for i in range(len(a)):\n",
    "        a[i] = a[i].replace(\"=\",\"-\")\n",
    "    for i in a:\n",
    "        if eval(i) == 0:\n",
    "            count = count + 1\n",
    "    per = (count / len(a)) * 100\n",
    "    return round(per,0)\n",
    "a = [\"2+3=5\",\"4+4=9\",\"3-1=2\"]\n",
    "mark_maths(a)\n",
    "        "
   ]
  },
  {
   "cell_type": "markdown",
   "metadata": {},
   "source": [
    "Question 4:There are two players, Alice and Bob, each with a 3-by-3 grid. A referee\n",
    "tells Alice to fill out one particular row in the grid (say the second row) by\n",
    "putting either a 1 or a 0 in each box, such that the sum of the numbers in that\n",
    "row is odd. The referee tells Bob to fill out one column in the grid (say the first\n",
    "column) by putting either a 1 or a 0 in each box, such that the sum of the\n",
    "numbers in that column is even.\n",
    "Alice and Bob win the game if Alice’s numbers give an odd sum, Bob’s give\n",
    "an even sum, and (most important) they’ve each written down the same\n",
    "number in the one square where their row and column intersect."
   ]
  },
  {
   "cell_type": "code",
   "execution_count": 2,
   "metadata": {},
   "outputs": [
    {
     "name": "stdout",
     "output_type": "stream",
     "text": [
      "False\n"
     ]
    }
   ],
   "source": [
    "def msg(l1,l2):\n",
    "    x=sum_string(l1[1])\n",
    "    y=sum_string(l2[1])\n",
    "    a=l1[0]\n",
    "    b=l2[0]\n",
    "    c=l1[1]\n",
    "    d=l2[1]\n",
    "    \n",
    "    \n",
    "    if x%2 != 0:\n",
    "            \n",
    "            if y%2 == 0:\n",
    "                        \n",
    "                        if c[b-1] == d[a-1]:\n",
    "                                     print('True')\n",
    "                        else:\n",
    "                            print('False')\n",
    "            else:\n",
    "                print('False')\n",
    "    else:\n",
    "        print('False')\n",
    "def sum_string(str1):\n",
    "    sum_digit = 0\n",
    "    for x in str1:\n",
    "        if x.isdigit() == True:\n",
    "            z = int(x)\n",
    "            sum_digit = sum_digit + z\n",
    "    return sum_digit\n",
    "msg([2,\"100\"],[1,\"101\"])\n",
    "    "
   ]
  },
  {
   "cell_type": "markdown",
   "metadata": {},
   "source": [
    "Question 5:From point A, an object is moving towards point B at constant velocity va\n",
    "(in km/hr). From point B, another object is moving towards point A at constant\n",
    "velocity vb (in km/hr). Knowing this and the distance between point A and B\n",
    "(in km), write a function that returns how much time passes until both objects\n",
    "meet."
   ]
  },
  {
   "cell_type": "code",
   "execution_count": 31,
   "metadata": {},
   "outputs": [
    {
     "name": "stdout",
     "output_type": "stream",
     "text": [
      "90\n",
      "75\n",
      "65\n",
      "0h 38min 34s\n"
     ]
    }
   ],
   "source": [
    "def lets_meet(d,v1,v2):\n",
    "    time = d/(v1+v2) * 3600\n",
    "    hr = int(time // 3600)\n",
    "    time = time % 3600\n",
    "    mini = int(time // 60)\n",
    "    sec = int(time % 60)\n",
    "    print(\"{}h {}min {}s\" .format(hr,mini,sec))\n",
    "    \n",
    "d = int(input())\n",
    "v1 = int(input())\n",
    "v2 = int(input())\n",
    "lets_meet(d,v1,v2)\n",
    "    "
   ]
  }
 ],
 "metadata": {
  "kernelspec": {
   "display_name": "Python 3",
   "language": "python",
   "name": "python3"
  },
  "language_info": {
   "codemirror_mode": {
    "name": "ipython",
    "version": 3
   },
   "file_extension": ".py",
   "mimetype": "text/x-python",
   "name": "python",
   "nbconvert_exporter": "python",
   "pygments_lexer": "ipython3",
   "version": "3.8.3"
  }
 },
 "nbformat": 4,
 "nbformat_minor": 4
}
