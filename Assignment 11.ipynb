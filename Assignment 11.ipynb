{
 "cells": [
  {
   "cell_type": "markdown",
   "metadata": {},
   "source": [
    "# Assignment 11"
   ]
  },
  {
   "cell_type": "markdown",
   "metadata": {},
   "source": [
    "Question 1:Create a function that takes a list and returns a new list containing only\n",
    "prime numbers."
   ]
  },
  {
   "cell_type": "code",
   "execution_count": 1,
   "metadata": {},
   "outputs": [
    {
     "name": "stdout",
     "output_type": "stream",
     "text": [
      "[10007, 1009]\n"
     ]
    }
   ],
   "source": [
    "def is_prime(a):\n",
    "    for i in range(2,a-1):\n",
    "        if a % i == 0:\n",
    "            return False\n",
    "    return a\n",
    "lst = [10007,1009,1007,27,147,77,1001,70]\n",
    "answer = []\n",
    "for i in lst:\n",
    "    if is_prime(i) != False:\n",
    "        answer.append(i)\n",
    "print(answer)        \n",
    "        "
   ]
  },
  {
   "cell_type": "markdown",
   "metadata": {},
   "source": [
    "Question 2:Once a water balloon pops, is soaks the area around it. The ground gets\n",
    "drier the further away you travel from the balloon.\n",
    "The effect of a water balloon popping can be modeled using a list. Create a\n",
    "function that takes a list which takes the pre-pop state and returns the state\n",
    "after the balloon is popped. The pre-pop state will contain at most a single\n",
    "balloon, whose size is represented by the only non-zero element."
   ]
  },
  {
   "cell_type": "code",
   "execution_count": 3,
   "metadata": {},
   "outputs": [
    {
     "data": {
      "text/plain": [
       "[0, 1, 2, 3, 4, 3, 2, 1, 0]"
      ]
     },
     "execution_count": 3,
     "metadata": {},
     "output_type": "execute_result"
    }
   ],
   "source": [
    "def pop(a):\n",
    "    maxi = a[-1]\n",
    "    \n",
    "    l = []\n",
    "    for i in range(maxi+1):\n",
    "        l.append(i)\n",
    "    for i in range(maxi-1,-1,-1):\n",
    "        l.append(i)\n",
    "    return l\n",
    "lst = [0,0,0,0,4,0,0,0,0]\n",
    "lst.sort()\n",
    "pop(lst)"
   ]
  },
  {
   "cell_type": "markdown",
   "metadata": {},
   "source": [
    "Questiion 3: Loves me, loves me not is a traditional game in which a person plucks off\n",
    "all the petals of a flower one by one, saying the phrase Loves me and\n",
    "Loves me not when determining whether the one that they love, loves them\n",
    "back.\n",
    "Given a number of petals, return a string which repeats the phrases Loves\n",
    "me and Loves me not for every alternating petal, and return the last phrase\n",
    "in all caps. Remember to put a comma and space between phrases."
   ]
  },
  {
   "cell_type": "code",
   "execution_count": 16,
   "metadata": {},
   "outputs": [
    {
     "name": "stdout",
     "output_type": "stream",
     "text": [
      "3\n",
      "Loves me,Loves me not,LOVES ME,"
     ]
    }
   ],
   "source": [
    "def loves_me(n):\n",
    "    k = []\n",
    "    for i in range(1,n+1):\n",
    "        if i % 2 == 0:\n",
    "            k.append(\"Loves me not\")\n",
    "        else:\n",
    "            k.append(\"Loves me\")\n",
    "    k[-1] = k[-1].upper()   \n",
    "    for i in k:\n",
    "        print(i,end = \",\")\n",
    "            \n",
    "    \n",
    "n = int(input())\n",
    "loves_me(n)\n",
    "            \n",
    "            "
   ]
  },
  {
   "cell_type": "markdown",
   "metadata": {},
   "source": [
    "Question 4:Write a function that sorts each string in a list by the letter in alphabetic\n",
    "ascending order (a-z)."
   ]
  },
  {
   "cell_type": "code",
   "execution_count": 14,
   "metadata": {},
   "outputs": [
    {
     "data": {
      "text/plain": [
       "['2344b', '932c', '832u32']"
      ]
     },
     "execution_count": 14,
     "metadata": {},
     "output_type": "execute_result"
    }
   ],
   "source": [
    "def sort_by_letter(a):\n",
    "    f = []\n",
    "    k = []\n",
    "    l = []\n",
    "    \n",
    "    for i in a:\n",
    "        for j in i:\n",
    "            \n",
    "            try:\n",
    "                if j.isalpha():\n",
    "                    l.append(j)\n",
    "            except:\n",
    "                pass\n",
    "    l.sort()\n",
    "    for i in l:\n",
    "        for j in a:\n",
    "            if i in j:\n",
    "                k.append(j)\n",
    "    return k\n",
    "a = [\"932c\",\"832u32\",\"2344b\"]\n",
    "sort_by_letter(a)"
   ]
  },
  {
   "cell_type": "markdown",
   "metadata": {},
   "source": [
    "Questiion 5:There are three cups on a table, at positions A, B, and C. At the start, there\n",
    "is a ball hidden under the cup at position B."
   ]
  },
  {
   "cell_type": "markdown",
   "metadata": {},
   "source": [
    "However, I perform several swaps on the cups, which is notated as two\n",
    "letters. For example, if I swap the cups at positions A and B, I could notate\n",
    "this as AB or BA.\n",
    "Create a function that returns the letter position that the ball is at, once I finish\n",
    "swapping the cups. The swaps will be given to you as a list."
   ]
  },
  {
   "cell_type": "code",
   "execution_count": 19,
   "metadata": {},
   "outputs": [
    {
     "data": {
      "text/plain": [
       "'C'"
      ]
     },
     "execution_count": 19,
     "metadata": {},
     "output_type": "execute_result"
    }
   ],
   "source": [
    "def cup_swapping(a):\n",
    "    answer = 'B'\n",
    "    for i in a:\n",
    "        if answer in i:\n",
    "            if answer == i[-1]:\n",
    "                answer = i[-2]\n",
    "            else:\n",
    "                answer = i[-1]\n",
    "    return answer\n",
    "lst = [\"AB\",\"CA\",\"AB\"]\n",
    "cup_swapping(lst)\n",
    "    "
   ]
  },
  {
   "cell_type": "code",
   "execution_count": null,
   "metadata": {},
   "outputs": [],
   "source": []
  }
 ],
 "metadata": {
  "kernelspec": {
   "display_name": "Python 3",
   "language": "python",
   "name": "python3"
  },
  "language_info": {
   "codemirror_mode": {
    "name": "ipython",
    "version": 3
   },
   "file_extension": ".py",
   "mimetype": "text/x-python",
   "name": "python",
   "nbconvert_exporter": "python",
   "pygments_lexer": "ipython3",
   "version": "3.8.3"
  }
 },
 "nbformat": 4,
 "nbformat_minor": 4
}
