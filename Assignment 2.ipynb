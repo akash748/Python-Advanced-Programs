{
 "cells": [
  {
   "cell_type": "markdown",
   "metadata": {},
   "source": [
    "# Assignment 2"
   ]
  },
  {
   "cell_type": "markdown",
   "metadata": {},
   "source": [
    "Question 1:Write a function that takes a positive integer num and calculates how many\n",
    "dots exist in a pentagonal shape around the center dot on the Nth iteration.\n",
    "In the image below you can see the first iteration is only a single dot. On the\n",
    "second, there are 6 dots. On the third, there are 16 dots, and on the fourth\n",
    "there are 31 dots."
   ]
  },
  {
   "cell_type": "code",
   "execution_count": 2,
   "metadata": {},
   "outputs": [
    {
     "name": "stdout",
     "output_type": "stream",
     "text": [
      "4\n"
     ]
    },
    {
     "data": {
      "text/plain": [
       "31"
      ]
     },
     "execution_count": 2,
     "metadata": {},
     "output_type": "execute_result"
    }
   ],
   "source": [
    "def pentagonal(a):\n",
    "    count = 1\n",
    "    for i in range(a):\n",
    "        count = count + (5*i)\n",
    "    return count\n",
    "n = int(input())\n",
    "pentagonal(n)"
   ]
  },
  {
   "cell_type": "markdown",
   "metadata": {},
   "source": [
    "Question 2:Make a function that encrypts a given input with these steps:\n",
    "Input: apple\n",
    "Step 1: Reverse the input\n",
    "Step 2: Replace all vowels using the following chart:\n",
    "a - 0\n",
    "e - 1\n",
    "i - 2\n",
    "o - 2\n",
    "u - 3\n",
    "\n",
    "Step 3: Add aca to the end of the word"
   ]
  },
  {
   "cell_type": "code",
   "execution_count": 6,
   "metadata": {},
   "outputs": [
    {
     "name": "stdout",
     "output_type": "stream",
     "text": [
      "karaca\n"
     ]
    },
    {
     "data": {
      "text/plain": [
       "'0c0r0kaca'"
      ]
     },
     "execution_count": 6,
     "metadata": {},
     "output_type": "execute_result"
    }
   ],
   "source": [
    "def reversi(a):\n",
    "    b = a[::-1]\n",
    "    for i in b:\n",
    "        if i =='a':\n",
    "            b = b.replace(i,'0')\n",
    "        elif i == 'e':\n",
    "            b = b.replace(i,'1')\n",
    "        elif i == 'i':\n",
    "            b = b.replace(i,'2')\n",
    "        elif i == 'o':\n",
    "            b = b.replace(i,'2')\n",
    "        elif i == 'u':\n",
    "            b = b.replace(i,'3')\n",
    "        \n",
    "    return (b + \"aca\")\n",
    "n = input()\n",
    "reversi(n)"
   ]
  },
  {
   "cell_type": "markdown",
   "metadata": {},
   "source": [
    "Question 3:Given the month and year as numbers, return whether that month contains\n",
    "a Friday 13th.(i.e You can check Python&#39;s datetime module)"
   ]
  },
  {
   "cell_type": "code",
   "execution_count": 8,
   "metadata": {},
   "outputs": [
    {
     "data": {
      "text/plain": [
       "True"
      ]
     },
     "execution_count": 8,
     "metadata": {},
     "output_type": "execute_result"
    }
   ],
   "source": [
    "import datetime\n",
    "import calendar\n",
    "from datetime import datetime\n",
    "\n",
    "def has_friday(month,year):\n",
    "    date = f'{month} 13 {year}'.format()\n",
    "    spooky = datetime.strptime(date,'%m %d %Y').weekday()\n",
    "    return (calendar.day_name[spooky]) == 'Friday'\n",
    "has_friday(3,2020)   "
   ]
  },
  {
   "cell_type": "markdown",
   "metadata": {},
   "source": [
    "Questiion 4:Write a regular expression that will help us count how many bad cookies\n",
    "are produced every day. You must use RegEx negative lookbehind."
   ]
  },
  {
   "cell_type": "code",
   "execution_count": 11,
   "metadata": {},
   "outputs": [
    {
     "data": {
      "text/plain": [
       "2"
      ]
     },
     "execution_count": 11,
     "metadata": {},
     "output_type": "execute_result"
    }
   ],
   "source": [
    "import re\n",
    "lst = [\"bad cookie\",\"good cookie\",\"bad cookie\",\"good cookie\",\"good cookie\"]\n",
    "len(re.findall('(?<!cookie)bad',\",\".join(lst)))"
   ]
  },
  {
   "cell_type": "markdown",
   "metadata": {},
   "source": [
    "Question 5:Given a list of words in the singular form, return a set of those words in the\n",
    "plural form if they appear more than once in the list."
   ]
  },
  {
   "cell_type": "code",
   "execution_count": 22,
   "metadata": {},
   "outputs": [
    {
     "data": {
      "text/plain": [
       "['cows', 'pig']"
      ]
     },
     "execution_count": 22,
     "metadata": {},
     "output_type": "execute_result"
    }
   ],
   "source": [
    "def pluralize(a):\n",
    "    counts = {}\n",
    "    l = []\n",
    "    for i in a:\n",
    "        counts[i] = counts.get(i,0) + 1\n",
    "    for i in counts:\n",
    "        if counts[i] > 1:\n",
    "            i = i + \"s\"\n",
    "            l.append(i)\n",
    "        else:\n",
    "            l.append(i)\n",
    "    return l        \n",
    "        \n",
    "n = [\"cow\",\"pig\",\"cow\",\"cow\"]\n",
    "pluralize(n)\n",
    "    "
   ]
  },
  {
   "cell_type": "code",
   "execution_count": null,
   "metadata": {},
   "outputs": [],
   "source": []
  }
 ],
 "metadata": {
  "kernelspec": {
   "display_name": "Python 3",
   "language": "python",
   "name": "python3"
  },
  "language_info": {
   "codemirror_mode": {
    "name": "ipython",
    "version": 3
   },
   "file_extension": ".py",
   "mimetype": "text/x-python",
   "name": "python",
   "nbconvert_exporter": "python",
   "pygments_lexer": "ipython3",
   "version": "3.8.3"
  }
 },
 "nbformat": 4,
 "nbformat_minor": 4
}
