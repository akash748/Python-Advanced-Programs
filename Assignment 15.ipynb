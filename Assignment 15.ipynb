{
 "cells": [
  {
   "cell_type": "markdown",
   "metadata": {},
   "source": [
    "# Assignment 15"
   ]
  },
  {
   "cell_type": "markdown",
   "metadata": {},
   "source": [
    "Question 1:Write a function that returns True if a given name can generate an array of\n",
    "words."
   ]
  },
  {
   "cell_type": "code",
   "execution_count": 7,
   "metadata": {},
   "outputs": [
    {
     "name": "stdout",
     "output_type": "stream",
     "text": [
      "Justin Bieber\n"
     ]
    },
    {
     "data": {
      "text/plain": [
       "True"
      ]
     },
     "execution_count": 7,
     "metadata": {},
     "output_type": "execute_result"
    }
   ],
   "source": [
    "def anagram(a,b):\n",
    "    counts = 0\n",
    "    a = a.lower()\n",
    "    for i in b:\n",
    "        for j in i:\n",
    "            if j in a:\n",
    "                counts = counts + 1\n",
    "    if counts == len(a) - 1:\n",
    "        return True\n",
    "    return False\n",
    "    \n",
    "a = input()\n",
    "b = [\"injures\",\"ebb\",\"it\"]\n",
    "anagram(a,b)"
   ]
  },
  {
   "cell_type": "markdown",
   "metadata": {},
   "source": [
    "Question 2:Given an array of users, each defined by an object with the following\n",
    "properties: name, score, reputation create a function that sorts the array to\n",
    "form the correct leaderboard.\n",
    "The leaderboard takes into consideration the score of each user of course,\n",
    "but an emphasis is put on their reputation in the community, so to get the\n",
    "trueScore, you should add the reputation multiplied by 2 to the score.\n",
    "Once you know the trueScore of each user, sort the array according to it in\n",
    "descending order."
   ]
  },
  {
   "cell_type": "code",
   "execution_count": 13,
   "metadata": {},
   "outputs": [
    {
     "data": {
      "text/plain": [
       "[{'name': 'b', 'score': 90, 'reputation': 40, 'truescore': 170},\n",
       " {'name': 'c', 'score': 100, 'reputation': 20, 'truescore': 140},\n",
       " {'name': 'a', 'score': 90, 'reputation': 20, 'truescore': 130}]"
      ]
     },
     "execution_count": 13,
     "metadata": {},
     "output_type": "execute_result"
    }
   ],
   "source": [
    "from operator import itemgetter\n",
    "def leaderboard(a):\n",
    "    for i in a:\n",
    "        i[\"truescore\"] = i[\"score\"] + (2 * i[\"reputation\"])\n",
    "    sorted_a = sorted(a, key = itemgetter(\"truescore\"),reverse = True)\n",
    "    return sorted_a\n",
    "m = [{\"name\":\"a\",\"score\":90,\"reputation\":20},{\"name\" : \"b\",\"score\" : 90,\"reputation\" : 40},{\"name\" : \"c\",\"score\" : 100,\"reputation\" : 20}]\n",
    "leaderboard(m)"
   ]
  },
  {
   "cell_type": "markdown",
   "metadata": {},
   "source": [
    "Question 3:Create a function that, given a phrase and a number of letters guessed,\n",
    "returns a string with hyphens - for every letter of the phrase not guessed, and\n",
    "each letter guessed in place."
   ]
  },
  {
   "cell_type": "code",
   "execution_count": 15,
   "metadata": {},
   "outputs": [
    {
     "name": "stdout",
     "output_type": "stream",
     "text": [
      "He's a very naughty boy\n"
     ]
    },
    {
     "data": {
      "text/plain": [
       "'-e---a--e-y--a----y---y'"
      ]
     },
     "execution_count": 15,
     "metadata": {},
     "output_type": "execute_result"
    }
   ],
   "source": [
    "def hangman(a,b):\n",
    "    k = \"\"\n",
    "    for i in a:\n",
    "        \n",
    "        if i in b:\n",
    "            k = k + i\n",
    "        else:\n",
    "            k = k + \"-\"\n",
    "    return k\n",
    "a = input()\n",
    "\n",
    "b =[\"e\",\"a\",\"y\"]\n",
    "hangman(a,b)\n",
    "            "
   ]
  },
  {
   "cell_type": "markdown",
   "metadata": {},
   "source": [
    "The Collatz sequence is as follows:\n",
    "- Start with some given integer n.\n",
    "- If it is even, the next number will be n divided by 2.\n",
    "- If it is odd, multiply it by 3 and add 1 to make the next number.\n",
    "- The sequence stops when it reaches 1.\n",
    "According to the Collatz conjecture, it will always reach 1. If that&#39;s true, you\n",
    "can construct a finite sequence following the aforementioned method for any\n",
    "given integer.\n",
    "Write a function that takes in an integer n and returns the highest integer in\n",
    "the corresponding Collatz sequence."
   ]
  },
  {
   "cell_type": "code",
   "execution_count": 21,
   "metadata": {},
   "outputs": [
    {
     "name": "stdout",
     "output_type": "stream",
     "text": [
      "85\n"
     ]
    },
    {
     "data": {
      "text/plain": [
       "256"
      ]
     },
     "execution_count": 21,
     "metadata": {},
     "output_type": "execute_result"
    }
   ],
   "source": [
    "def max_collatz(n):\n",
    "    lst = []\n",
    "    lst.append(n)\n",
    "    while n!=1:\n",
    "        if n % 2 == 0:\n",
    "            lst.append(n//2)\n",
    "            n = n //2\n",
    "        else:\n",
    "            lst.append(3*n + 1)\n",
    "            n = 3*n + 1\n",
    "    return max(lst)\n",
    "m = int(input())\n",
    "max_collatz(m)\n",
    "            "
   ]
  },
  {
   "cell_type": "markdown",
   "metadata": {},
   "source": [
    "Question 5:Write a function that sorts a list of integers by their digit length in\n",
    "descending order, then settles ties by sorting numbers with the same digit\n",
    "length in ascending order."
   ]
  },
  {
   "cell_type": "code",
   "execution_count": 50,
   "metadata": {},
   "outputs": [
    {
     "data": {
      "text/plain": [
       "['789', '444', '563', '1', '5', '9', '2']"
      ]
     },
     "execution_count": 50,
     "metadata": {},
     "output_type": "execute_result"
    }
   ],
   "source": [
    "m = [1,5,9,2,789,444,563]\n",
    "k = []\n",
    "for i in m:\n",
    "    k.append(str(i))\n",
    "k.sort(key = len,reverse = True)    \n",
    "\n"
   ]
  },
  {
   "cell_type": "code",
   "execution_count": 51,
   "metadata": {},
   "outputs": [
    {
     "data": {
      "text/plain": [
       "[444, 563, 789, 1, 5, 2, 9]"
      ]
     },
     "execution_count": 51,
     "metadata": {},
     "output_type": "execute_result"
    }
   ],
   "source": [
    "k\n",
    "for i in range(len(k) - 1):\n",
    "    if len(k[i]) == len(k[i+1]):\n",
    "        if int(k[i]) > int(k[i+1]):\n",
    "            k[i],k[i+1] = k[i+1],k[i]\n",
    "f = [int(i) for i in k]\n",
    "f"
   ]
  },
  {
   "cell_type": "code",
   "execution_count": null,
   "metadata": {},
   "outputs": [],
   "source": []
  }
 ],
 "metadata": {
  "kernelspec": {
   "display_name": "Python 3",
   "language": "python",
   "name": "python3"
  },
  "language_info": {
   "codemirror_mode": {
    "name": "ipython",
    "version": 3
   },
   "file_extension": ".py",
   "mimetype": "text/x-python",
   "name": "python",
   "nbconvert_exporter": "python",
   "pygments_lexer": "ipython3",
   "version": "3.8.3"
  }
 },
 "nbformat": 4,
 "nbformat_minor": 4
}
