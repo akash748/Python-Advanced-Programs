{
 "cells": [
  {
   "cell_type": "markdown",
   "metadata": {},
   "source": [
    "# Assignment 19"
   ]
  },
  {
   "cell_type": "markdown",
   "metadata": {},
   "source": [
    "Question 1:Create a checker board generator, which takes as inputs n and 2 elements\n",
    "to generate an n x n checkerboard with those two elements as alternating\n",
    "squares."
   ]
  },
  {
   "cell_type": "code",
   "execution_count": 1,
   "metadata": {},
   "outputs": [],
   "source": [
    "import numpy as np\n",
    "def checker_board(a,b,c):\n",
    "    \n",
    "    if b==c:\n",
    "        print('invalid')\n",
    "    else:\n",
    "        matrix = np.full((a, a), b)\n",
    "        matrix[1::2,::2]=c\n",
    "        matrix[::2,1::2]=c\n",
    "        print(matrix)"
   ]
  },
  {
   "cell_type": "markdown",
   "metadata": {},
   "source": [
    "Question 2:A string is an almost-palindrome if, by changing only one character, you\n",
    "can make it a palindrome. Create a function that returns True if a string is an\n",
    "almost-palindrome and False otherwise."
   ]
  },
  {
   "cell_type": "code",
   "execution_count": 7,
   "metadata": {},
   "outputs": [
    {
     "name": "stdout",
     "output_type": "stream",
     "text": [
      "abccia\n"
     ]
    },
    {
     "data": {
      "text/plain": [
       "True"
      ]
     },
     "execution_count": 7,
     "metadata": {},
     "output_type": "execute_result"
    }
   ],
   "source": [
    "def almost_palindrome(a):\n",
    "    left = 0\n",
    "    right = len(a) - 1\n",
    "    count = 0\n",
    "    while left < right:\n",
    "        if a[left] != a[right]:\n",
    "            count = count + 1\n",
    "        left = left + 1\n",
    "        right = right - 1\n",
    "    if count == 1:\n",
    "        return True\n",
    "    return False\n",
    "n = input()\n",
    "almost_palindrome(n)"
   ]
  },
  {
   "cell_type": "markdown",
   "metadata": {},
   "source": [
    "Question 3:Create a function that finds how many prime numbers there are, up to the\n",
    "given integer."
   ]
  },
  {
   "cell_type": "code",
   "execution_count": 9,
   "metadata": {},
   "outputs": [
    {
     "name": "stdout",
     "output_type": "stream",
     "text": [
      "10\n",
      "4\n"
     ]
    }
   ],
   "source": [
    "def prime_numbers(a):\n",
    "    \n",
    "    if a == 1:\n",
    "        return False\n",
    "    for i in range(2,a):\n",
    "        if a % i == 0:\n",
    "            return True\n",
    "        \n",
    "    return False\n",
    "n = int(input())\n",
    "count = 0\n",
    "for i in range(n):\n",
    "    if prime_numbers(i) == True:\n",
    "        count = count + 1\n",
    "print(count)        "
   ]
  },
  {
   "cell_type": "markdown",
   "metadata": {},
   "source": [
    "Question 4:If today was Monday, in two days, it would be Wednesday.\n",
    "Create a function that takes in a list of days as input and the number of days\n",
    "to increment by. Return a list of days after n number of days has passed."
   ]
  },
  {
   "cell_type": "code",
   "execution_count": 2,
   "metadata": {},
   "outputs": [],
   "source": [
    "def after_n_days(a,b):\n",
    "    dic={'Monday':1,'Tuesday':2,'Wednesday':3,'Thursday':4,'Friday':5,'Saturday':6,'Sunday':7}\n",
    "    li=[]\n",
    "    for x in a:\n",
    "        y=dic[x]+b\n",
    "        y=y%7\n",
    "        z=list(dic.keys())[list(dic.values()).index(y)]\n",
    "        li.append(z)\n",
    "    return l\n",
    "            \n",
    "            \n",
    "    \n",
    "    \n",
    "    "
   ]
  },
  {
   "cell_type": "markdown",
   "metadata": {},
   "source": [
    "Question 5:You are in the process of creating a chat application and want to add an\n",
    "anonymous name feature. This anonymous name feature will create an alias\n",
    "that consists of two capitalized words beginning with the same letter as the\n",
    "users first name.\n",
    "Create a function that determines if the list of users is mapped to a list of\n",
    "anonymous names correctly."
   ]
  },
  {
   "cell_type": "code",
   "execution_count": 3,
   "metadata": {},
   "outputs": [],
   "source": [
    "def is_correct_aliases(a,b):\n",
    "    li1=[]\n",
    "    li2=[]\n",
    "    li3=[]\n",
    "    \n",
    "    for x in a:\n",
    "        li1.append(x[0])\n",
    "    for y in b:\n",
    "        li2.append(y[0])\n",
    "        z=y.find(' ')\n",
    "        li3.append(y[z+1])\n",
    "    if li1==li2:\n",
    "        if li1==li3:\n",
    "            print('True')\n",
    "        else:\n",
    "            print('False')\n",
    "    else:\n",
    "        print('False')\n",
    "    \n",
    "    \n",
    "        \n",
    "        "
   ]
  },
  {
   "cell_type": "code",
   "execution_count": null,
   "metadata": {},
   "outputs": [],
   "source": []
  }
 ],
 "metadata": {
  "kernelspec": {
   "display_name": "Python 3",
   "language": "python",
   "name": "python3"
  },
  "language_info": {
   "codemirror_mode": {
    "name": "ipython",
    "version": 3
   },
   "file_extension": ".py",
   "mimetype": "text/x-python",
   "name": "python",
   "nbconvert_exporter": "python",
   "pygments_lexer": "ipython3",
   "version": "3.8.3"
  }
 },
 "nbformat": 4,
 "nbformat_minor": 4
}
