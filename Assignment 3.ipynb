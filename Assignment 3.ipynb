{
 "cells": [
  {
   "cell_type": "markdown",
   "metadata": {},
   "source": [
    "# Assignment 3"
   ]
  },
  {
   "cell_type": "markdown",
   "metadata": {},
   "source": [
    "Question 1:Create a function to perform basic arithmetic operations that includes\n",
    "addition, subtraction, multiplication and division on a string number (e.g. 12 +\n",
    "24, 23 - 21 or 12 // 12 or 12 * 21).\n",
    "Here, we have 1 followed by a space, operator followed by another space\n",
    "and 2. For the challenge, we are going to have only two numbers between 1\n",
    "valid operator. The return value should be a number.\n",
    "eval() is not allowed. In case of division, whenever the second number equals\n",
    "0 return -1."
   ]
  },
  {
   "cell_type": "code",
   "execution_count": 20,
   "metadata": {},
   "outputs": [
    {
     "name": "stdout",
     "output_type": "stream",
     "text": [
      "12 + 12\n"
     ]
    },
    {
     "data": {
      "text/plain": [
       "24.0"
      ]
     },
     "execution_count": 20,
     "metadata": {},
     "output_type": "execute_result"
    }
   ],
   "source": [
    "def arithmetic_operation(a):\n",
    "    num = 0\n",
    "    first_num = \"\"\n",
    "    second_num = \"\"\n",
    "    operator = \"\"\n",
    "    for i in range(len(a)):\n",
    "        if a[i] == \" \":\n",
    "            operator = a[i+1]\n",
    "            num = i + 1\n",
    "            break\n",
    "    first_num = a[0:num-1]\n",
    "    second_num = a[num+2:]\n",
    "    if operator == '+':\n",
    "        return float(first_num) + float(second_num)\n",
    "    if operator == '-':\n",
    "        return float(first_num) - float(second_num)\n",
    "    if operator == '*':\n",
    "        return float(first_num) * float(second_num)\n",
    "    if (operator == '//') and (second_num == '0'):\n",
    "        return -1\n",
    "    else:\n",
    "        return float(first_num) // float(second_num)\n",
    "n = input()\n",
    "arithmetic_operation(n)"
   ]
  },
  {
   "cell_type": "markdown",
   "metadata": {},
   "source": [
    "Question 2:Write a function that takes the coordinates of three points in the form of a\n",
    "2d array and returns the perimeter of the triangle. The given points are the\n",
    "vertices of a triangle on a two-dimensional plane."
   ]
  },
  {
   "cell_type": "code",
   "execution_count": 23,
   "metadata": {},
   "outputs": [
    {
     "data": {
      "text/plain": [
       "47.08"
      ]
     },
     "execution_count": 23,
     "metadata": {},
     "output_type": "execute_result"
    }
   ],
   "source": [
    "def perimeter(a,b,c):\n",
    "    dist1 = ((a[0] - b[0]) ** 2 + (a[1] - b[1]) ** 2) ** 0.5\n",
    "    dist2 = ((b[0] - c[0]) ** 2 + (b[1] - c[1]) ** 2) ** 0.5\n",
    "    dist3 = ((c[0] - a[0]) ** 2 + (c[1] - a[1]) ** 2) ** 0.5\n",
    "    peri = dist1 + dist2 + dist3\n",
    "    return round(peri,2)\n",
    "m = [15,7]\n",
    "n = [5,22]\n",
    "o = [11,1]\n",
    "perimeter(m,n,o)"
   ]
  },
  {
   "cell_type": "markdown",
   "metadata": {},
   "source": [
    "Question 3:A city skyline can be represented as a 2-D list with 1s representing\n",
    "buildings. In the example below, the height of the tallest building is 4 (second-\n",
    "most right column)."
   ]
  },
  {
   "cell_type": "markdown",
   "metadata": {},
   "source": [
    "Create a function that takes a skyline (2-D list of 0&#39;s and 1&#39;s) and returns the\n",
    "height of the tallest skyscraper."
   ]
  },
  {
   "cell_type": "code",
   "execution_count": 1,
   "metadata": {},
   "outputs": [
    {
     "data": {
      "text/plain": [
       "3"
      ]
     },
     "execution_count": 1,
     "metadata": {},
     "output_type": "execute_result"
    }
   ],
   "source": [
    "def tallest_skyscraper(a):\n",
    "    sum1 = 0\n",
    "    for i in range(len(a)):\n",
    "        sum1 = sum1 + a[i][1]\n",
    "    return sum1    \n",
    "a = [[0,0,0,0],[0,1,0,0],[0,1,1,0],[1,1,1,1]]\n",
    "tallest_skyscraper(a)"
   ]
  },
  {
   "cell_type": "markdown",
   "metadata": {},
   "source": [
    "Question 4:A financial institution provides professional services to banks and claims\n",
    "charges from the customers based on the number of man-days provided.\n",
    "Internally, it has set a scheme to motivate and reward staff to meet and\n",
    "exceed targeted billable utilization and revenues by paying a bonus for each\n",
    "day claimed from customers in excess of a threshold target."
   ]
  },
  {
   "cell_type": "code",
   "execution_count": 26,
   "metadata": {},
   "outputs": [
    {
     "name": "stdout",
     "output_type": "stream",
     "text": [
      "50\n"
     ]
    },
    {
     "data": {
      "text/plain": [
       "8200"
      ]
     },
     "execution_count": 26,
     "metadata": {},
     "output_type": "execute_result"
    }
   ],
   "source": [
    "def bonus(a):\n",
    "    num = a\n",
    "    bon = 0\n",
    "    if (num >= 0) :\n",
    "        bon = 0\n",
    "        num = num - 32\n",
    "        \n",
    "    if num > 0:\n",
    "        bon = bon + min(8,num) * 325\n",
    "        num = num - 8\n",
    "    if num > 0:\n",
    "        bon = bon + min(8,num) * 550\n",
    "        num = num - 8\n",
    "        \n",
    "    if num > 0:\n",
    "        bon = bon + num * 600\n",
    "        \n",
    "    return bon  \n",
    "n = int(input())\n",
    "bonus(n)"
   ]
  },
  {
   "cell_type": "markdown",
   "metadata": {},
   "source": [
    "Question 5:A number is said to be Disarium if the sum of its digits raised to their\n",
    "respective positions is the number itself.\n",
    "Create a function that determines whether a number is a Disarium or not."
   ]
  },
  {
   "cell_type": "code",
   "execution_count": 30,
   "metadata": {},
   "outputs": [
    {
     "name": "stdout",
     "output_type": "stream",
     "text": [
      "518\n"
     ]
    },
    {
     "data": {
      "text/plain": [
       "True"
      ]
     },
     "execution_count": 30,
     "metadata": {},
     "output_type": "execute_result"
    }
   ],
   "source": [
    "def is_disarium(a):\n",
    "    n = a\n",
    "    sum1 = 0\n",
    "    j = 0\n",
    "    l = len(str(a))\n",
    "    while n > 0:\n",
    "        j = n % 10\n",
    "        sum1 = sum1 + (j ** l)\n",
    "        l = l - 1\n",
    "        n = n // 10\n",
    "    if sum1 == a:\n",
    "        return True\n",
    "    else:\n",
    "        return False\n",
    "    \n",
    "n = int(input())\n",
    "is_disarium(n)"
   ]
  },
  {
   "cell_type": "code",
   "execution_count": null,
   "metadata": {},
   "outputs": [],
   "source": []
  }
 ],
 "metadata": {
  "kernelspec": {
   "display_name": "Python 3",
   "language": "python",
   "name": "python3"
  },
  "language_info": {
   "codemirror_mode": {
    "name": "ipython",
    "version": 3
   },
   "file_extension": ".py",
   "mimetype": "text/x-python",
   "name": "python",
   "nbconvert_exporter": "python",
   "pygments_lexer": "ipython3",
   "version": "3.8.3"
  }
 },
 "nbformat": 4,
 "nbformat_minor": 4
}
