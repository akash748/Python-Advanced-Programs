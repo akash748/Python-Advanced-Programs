{
 "cells": [
  {
   "cell_type": "markdown",
   "metadata": {},
   "source": [
    "# Assignment 9"
   ]
  },
  {
   "cell_type": "markdown",
   "metadata": {},
   "source": [
    "Question 1:YouTube offers different playback speed options for users. This allows\n",
    "users to increase or decrease the speed of the video content. Given the\n",
    "actual duration and playback speed of the video, calculate the playback\n",
    "duration of the video."
   ]
  },
  {
   "cell_type": "code",
   "execution_count": 12,
   "metadata": {},
   "outputs": [
    {
     "name": "stdout",
     "output_type": "stream",
     "text": [
      "51:20:09\n",
      "0.5\n"
     ]
    },
    {
     "data": {
      "text/plain": [
       "'102:40:18'"
      ]
     },
     "execution_count": 12,
     "metadata": {},
     "output_type": "execute_result"
    }
   ],
   "source": [
    "def playback(a,b):\n",
    "    a = a.split(\":\")\n",
    "    time = float(a[0])*3600 + float(a[1])*60 + float(a[2])\n",
    "    play_sec = time/b\n",
    "    hr = play_sec // 3600\n",
    "    play_sec = play_sec % 3600\n",
    "    min = play_sec // 60\n",
    "    play_sec = play_sec % 60\n",
    "    return(\"{}:{}:{}\".format(int(hr),int(min),int(play_sec)))\n",
    "a = input()\n",
    "b = float(input())\n",
    "playback(a,b)"
   ]
  },
  {
   "cell_type": "code",
   "execution_count": 6,
   "metadata": {},
   "outputs": [
    {
     "data": {
      "text/plain": [
       "1.0"
      ]
     },
     "execution_count": 6,
     "metadata": {},
     "output_type": "execute_result"
    }
   ],
   "source": [
    "a = \"1:20:00\"\n",
    "a = a.split(\":\")\n",
    "float(a[0])"
   ]
  },
  {
   "cell_type": "markdown",
   "metadata": {},
   "source": [
    "Question 2:We needs your help to construct a building which will be a pile of n cubes.\n",
    "The cube at the bottom will have a volume of n^3, the cube above will have\n",
    "volume of (n-1)^3 and so on until the top which will have a volume of 1^3.\n",
    "Given the total volume m of the building, can you find the number of cubes n\n",
    "required for the building?"
   ]
  },
  {
   "cell_type": "code",
   "execution_count": 4,
   "metadata": {},
   "outputs": [
    {
     "name": "stdout",
     "output_type": "stream",
     "text": [
      "4183059834009\n"
     ]
    },
    {
     "data": {
      "text/plain": [
       "2022"
      ]
     },
     "execution_count": 4,
     "metadata": {},
     "output_type": "execute_result"
    }
   ],
   "source": [
    "def is_check(volume):\n",
    "    volume = volume * 4\n",
    "    volume = volume ** 0.5\n",
    "    x = (int)(math.sqrt(volume))\n",
    "    if x * (x+1) == volume:\n",
    "        return x\n",
    "    else:\n",
    "        return \"None\"\n",
    "n = int(input())\n",
    "import math\n",
    "is_check(n)\n",
    "    \n",
    "    "
   ]
  },
  {
   "cell_type": "markdown",
   "metadata": {},
   "source": [
    "Question 3:A fulcrum of a list is an integer such that all elements to the left of it and all\n",
    "elements to the right of it sum to the same value. Write a function that finds\n",
    "the fulcrum of a list."
   ]
  },
  {
   "cell_type": "code",
   "execution_count": 11,
   "metadata": {},
   "outputs": [
    {
     "data": {
      "text/plain": [
       "4"
      ]
     },
     "execution_count": 11,
     "metadata": {},
     "output_type": "execute_result"
    }
   ],
   "source": [
    "def find_fulcrum(a):\n",
    "    \n",
    "    for i in range(0,len(a)):\n",
    "        if sum(a[0:i]) == sum(a[i+1:]):\n",
    "            return a[i]\n",
    "    return -1   \n",
    "l = [1,2,4,9,10,-10,-9,3]\n",
    "find_fulcrum(l)\n",
    "        "
   ]
  },
  {
   "cell_type": "markdown",
   "metadata": {},
   "source": [
    "Question 4:Given a list of integers representing the color of each sock, determine how\n",
    "many pairs of socks with matching colors there are. For example, there are 7\n",
    "socks with colors [1, 2, 1, 2, 1, 3, 2]. There is one pair of color 1 and one of\n",
    "color 2. There are three odd socks left, one of each color. The number of\n",
    "pairs is 2."
   ]
  },
  {
   "cell_type": "code",
   "execution_count": 16,
   "metadata": {},
   "outputs": [
    {
     "data": {
      "text/plain": [
       "4"
      ]
     },
     "execution_count": 16,
     "metadata": {},
     "output_type": "execute_result"
    }
   ],
   "source": [
    "def sock_merchant(a):\n",
    "    counts = {}\n",
    "    pair = 0\n",
    "    for i in a:\n",
    "        counts[i] = counts.get(i,0) + 1\n",
    "    for i in counts:\n",
    "        if counts[i] > 1:\n",
    "            pair = pair + int((counts[i] / 2))\n",
    "    return int(pair) \n",
    "l = [50,20,30,90,30,20,50,20,90]\n",
    "sock_merchant(l)"
   ]
  },
  {
   "cell_type": "markdown",
   "metadata": {},
   "source": [
    "Question 5:Create a function that takes a string containing integers as well as other\n",
    "characters and return the sum of the negative integers only."
   ]
  },
  {
   "cell_type": "code",
   "execution_count": null,
   "metadata": {},
   "outputs": [],
   "source": [
    "def negative_sum(a):\n",
    "    temp = \"0\"\n",
    "    for i in a:\n",
    "        if (i.isdigit()):\n",
    "            temp = temp + i\n",
    "        elif int(temp) < 0:\n",
    "            sum1 = sum1 + int(temp)\n",
    "            temp = \"0\"\n",
    "        return sum1\n",
    "n = input()\n",
    "negative_sum(n)"
   ]
  },
  {
   "cell_type": "code",
   "execution_count": null,
   "metadata": {},
   "outputs": [],
   "source": []
  }
 ],
 "metadata": {
  "kernelspec": {
   "display_name": "Python 3",
   "language": "python",
   "name": "python3"
  },
  "language_info": {
   "codemirror_mode": {
    "name": "ipython",
    "version": 3
   },
   "file_extension": ".py",
   "mimetype": "text/x-python",
   "name": "python",
   "nbconvert_exporter": "python",
   "pygments_lexer": "ipython3",
   "version": "3.8.3"
  }
 },
 "nbformat": 4,
 "nbformat_minor": 4
}
