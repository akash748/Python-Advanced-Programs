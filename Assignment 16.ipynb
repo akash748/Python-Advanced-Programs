{
 "cells": [
  {
   "cell_type": "markdown",
   "metadata": {},
   "source": [
    "# Assignment 16"
   ]
  },
  {
   "cell_type": "markdown",
   "metadata": {},
   "source": [
    "Question 1:Rondo Form is a type of musical structure, in which there is a recurring\n",
    "theme/refrain, notated as A. Here are the rules for valid rondo forms:\n",
    "- Rondo forms always start and end with an A section.\n",
    "- In between the A sections, there should be contrasting sections notated as\n",
    "B, then C, then D, etc... No letter should be skipped.\n",
    "- There shouldnt be any repeats in the sequence (such as ABBACCA).\n",
    "Create a function which validates whether a given string is a valid Rondo\n",
    "Form."
   ]
  },
  {
   "cell_type": "code",
   "execution_count": 1,
   "metadata": {},
   "outputs": [
    {
     "ename": "SyntaxError",
     "evalue": "unexpected EOF while parsing (<ipython-input-1-fd02fb6fc4bf>, line 2)",
     "output_type": "error",
     "traceback": [
      "\u001b[1;36m  File \u001b[1;32m\"<ipython-input-1-fd02fb6fc4bf>\"\u001b[1;36m, line \u001b[1;32m2\u001b[0m\n\u001b[1;33m    \u001b[0m\n\u001b[1;37m    ^\u001b[0m\n\u001b[1;31mSyntaxError\u001b[0m\u001b[1;31m:\u001b[0m unexpected EOF while parsing\n"
     ]
    }
   ],
   "source": [
    "def rondo(a):\n",
    "    "
   ]
  },
  {
   "cell_type": "markdown",
   "metadata": {},
   "source": [
    "Question 2:Create a function that returns the whole of the first sentence which\n",
    "contains a specific word. Include the full stop at the end of the sentence."
   ]
  },
  {
   "cell_type": "code",
   "execution_count": 2,
   "metadata": {},
   "outputs": [
    {
     "name": "stdout",
     "output_type": "stream",
     "text": [
      "I have a cat.I have a mat.Things are going well\n",
      "have\n"
     ]
    },
    {
     "data": {
      "text/plain": [
       "'I have a cat.'"
      ]
     },
     "execution_count": 2,
     "metadata": {},
     "output_type": "execute_result"
    }
   ],
   "source": [
    "def sentence_searcher(a,b):\n",
    "    txt = a.split(\".\")\n",
    "    for i in txt:\n",
    "        if b in i:\n",
    "            return i + \".\"\n",
    "    return \"\"\n",
    "a = input()\n",
    "b = input()\n",
    "sentence_searcher(a,b)"
   ]
  },
  {
   "cell_type": "markdown",
   "metadata": {},
   "source": [
    "Question 3:Given a number, find the round of each digit of the number. An integer is\n",
    "called round if all its digits except the leftmost (most significant) are equal to\n",
    "zero."
   ]
  },
  {
   "cell_type": "markdown",
   "metadata": {},
   "source": [
    "Create a function that takes a number and returns the round of each digit\n",
    "(except if the digit is zero) as a string. Check out the following examples for\n",
    "more clarification."
   ]
  },
  {
   "cell_type": "code",
   "execution_count": 6,
   "metadata": {},
   "outputs": [
    {
     "name": "stdout",
     "output_type": "stream",
     "text": [
      "1234\n"
     ]
    },
    {
     "data": {
      "text/plain": [
       "' 4 30 200 1000'"
      ]
     },
     "execution_count": 6,
     "metadata": {},
     "output_type": "execute_result"
    }
   ],
   "source": [
    "def sum_round(a):\n",
    "    k = \"\"\n",
    "    f = 1\n",
    "    \n",
    "    \n",
    "    while a > 0:\n",
    "        j = a % 10\n",
    "        if j != 0:\n",
    "            k = k +\" \" +  str(j*f)\n",
    "        f = f*10\n",
    "        a = a // 10\n",
    "    return k\n",
    "m = int(input())\n",
    "sum_round(m)"
   ]
  },
  {
   "cell_type": "markdown",
   "metadata": {},
   "source": [
    "Question 4:Your task, is to create N x N multiplication table, of size n provided in\n",
    "parameter.\n",
    "For example, when n is 5, the multiplication table is:\n",
    "- 1, 2, 3, 4, 5\n",
    "- 2, 4, 6, 8, 10\n",
    "- 3, 6, 9, 12, 15\n",
    "- 4, 8, 12, 16, 20\n",
    "- 5, 10, 15, 20, 25 "
   ]
  },
  {
   "cell_type": "code",
   "execution_count": 15,
   "metadata": {},
   "outputs": [
    {
     "name": "stdout",
     "output_type": "stream",
     "text": [
      "5\n"
     ]
    },
    {
     "data": {
      "text/plain": [
       "[[1, 2, 3, 4, 5],\n",
       " [2, 4, 6, 8, 10],\n",
       " [3, 6, 9, 12, 15],\n",
       " [4, 8, 12, 16, 20],\n",
       " [5, 10, 15, 20, 25]]"
      ]
     },
     "execution_count": 15,
     "metadata": {},
     "output_type": "execute_result"
    }
   ],
   "source": [
    "def multiplication_table(n):\n",
    "    l = []\n",
    "    matrix = []\n",
    "    for i in range(1,n+1):\n",
    "        l = []\n",
    "        for j in range(1,n+1):\n",
    "            l.append(i*j)\n",
    "        matrix.append(l)    \n",
    "    return matrix\n",
    "n = int(input())\n",
    "multiplication_table(n)"
   ]
  },
  {
   "cell_type": "markdown",
   "metadata": {},
   "source": [
    "Question 5:Create a function that returns True if two lines rhyme and False otherwise.\n",
    "For the purposes of this exercise, two lines rhyme if the last word from each\n",
    "sentence contains the same vowels."
   ]
  },
  {
   "cell_type": "code",
   "execution_count": 27,
   "metadata": {},
   "outputs": [
    {
     "name": "stdout",
     "output_type": "stream",
     "text": [
      "Sam I am?\n",
      "Green eggs and HAM.\n"
     ]
    },
    {
     "data": {
      "text/plain": [
       "True"
      ]
     },
     "execution_count": 27,
     "metadata": {},
     "output_type": "execute_result"
    }
   ],
   "source": [
    "def does_rhyme(a,b):\n",
    "    vowels = ['a','e','i','o','u','A','E','I','O','U']\n",
    "    \n",
    "    k = \"\"\n",
    "    p = \"\"\n",
    "    \n",
    "    a = a.split()\n",
    "    b = b.split()\n",
    "    vow1 = a[-1].lower()\n",
    "    vow2 = b[-1].lower()\n",
    "    \n",
    "    for i in vow1:\n",
    "        if i in vowels:\n",
    "            k = k + i\n",
    "            \n",
    "    for i in vow2:\n",
    "        if i in vowels:\n",
    "            p = p + i\n",
    "            \n",
    "    if (sorted(k) == sorted(p)) and (len(k) == len(p)):\n",
    "        return True\n",
    "    return False\n",
    "a = input()\n",
    "b = input()\n",
    "does_rhyme(a,b)\n",
    "    "
   ]
  }
 ],
 "metadata": {
  "kernelspec": {
   "display_name": "Python 3",
   "language": "python",
   "name": "python3"
  }
 },
 "nbformat": 4,
 "nbformat_minor": 4
}
