{
 "cells": [
  {
   "cell_type": "markdown",
   "metadata": {},
   "source": [
    "# Assignment 8"
   ]
  },
  {
   "cell_type": "markdown",
   "metadata": {},
   "source": [
    "Question 1:Given a sentence as txt, return True if any two adjacent words have this\n",
    "property: One word ends with a vowel, while the word immediately after\n",
    "begins with a vowel (a e i o u)."
   ]
  },
  {
   "cell_type": "code",
   "execution_count": 3,
   "metadata": {},
   "outputs": [
    {
     "name": "stdout",
     "output_type": "stream",
     "text": [
      "a very large appliance\n"
     ]
    },
    {
     "data": {
      "text/plain": [
       "True"
      ]
     },
     "execution_count": 3,
     "metadata": {},
     "output_type": "execute_result"
    }
   ],
   "source": [
    "def is_check(z):\n",
    "    vowels = ('a','e','i','o','u')\n",
    "    z = z.lower()\n",
    "    txt = z.split()\n",
    "    \n",
    "    for i in range(len(txt) - 1):\n",
    "        if (txt[i].endswith(vowels)) and (txt[i+1].startswith(vowels)):\n",
    "            return True\n",
    "    return False\n",
    "k = input()\n",
    "is_check(k)"
   ]
  },
  {
   "cell_type": "markdown",
   "metadata": {},
   "source": [
    "Question 2:You are given three inputs: a string, one letter, and a second letter.\n",
    "Write a function that returns True if every instance of the first letter occurs\n",
    "before every instance of the second letter."
   ]
  },
  {
   "cell_type": "code",
   "execution_count": 5,
   "metadata": {},
   "outputs": [
    {
     "name": "stdout",
     "output_type": "stream",
     "text": [
      "Enter string, first letter and second letter: aeroplane\n"
     ]
    },
    {
     "ename": "ValueError",
     "evalue": "not enough values to unpack (expected 3, got 1)",
     "output_type": "error",
     "traceback": [
      "\u001b[1;31m---------------------------------------------------------------------------\u001b[0m",
      "\u001b[1;31mValueError\u001b[0m                                Traceback (most recent call last)",
      "\u001b[1;32m<ipython-input-5-d6c203e7d653>\u001b[0m in \u001b[0;36m<module>\u001b[1;34m\u001b[0m\n\u001b[0;32m      1\u001b[0m \u001b[0mi\u001b[0m\u001b[1;33m=\u001b[0m\u001b[0mocc1\u001b[0m\u001b[1;33m=\u001b[0m\u001b[0mocc2\u001b[0m\u001b[1;33m=\u001b[0m\u001b[1;36m0\u001b[0m\u001b[1;33m\u001b[0m\u001b[1;33m\u001b[0m\u001b[0m\n\u001b[0;32m      2\u001b[0m \u001b[0mflag\u001b[0m \u001b[1;33m=\u001b[0m \u001b[1;32mTrue\u001b[0m\u001b[1;33m\u001b[0m\u001b[1;33m\u001b[0m\u001b[0m\n\u001b[1;32m----> 3\u001b[1;33m \u001b[0mstr\u001b[0m\u001b[1;33m,\u001b[0m \u001b[0mltr1\u001b[0m\u001b[1;33m,\u001b[0m \u001b[0mltr2\u001b[0m \u001b[1;33m=\u001b[0m \u001b[0minput\u001b[0m\u001b[1;33m(\u001b[0m\u001b[1;34m'Enter string, first letter and second letter: '\u001b[0m\u001b[1;33m)\u001b[0m\u001b[1;33m.\u001b[0m\u001b[0msplit\u001b[0m\u001b[1;33m(\u001b[0m\u001b[1;33m)\u001b[0m\u001b[1;33m\u001b[0m\u001b[1;33m\u001b[0m\u001b[0m\n\u001b[0m\u001b[0;32m      4\u001b[0m \u001b[1;32mwhile\u001b[0m \u001b[0mi\u001b[0m\u001b[1;33m<\u001b[0m\u001b[0mstr\u001b[0m\u001b[1;33m.\u001b[0m\u001b[0mcount\u001b[0m\u001b[1;33m(\u001b[0m\u001b[0mltr1\u001b[0m\u001b[1;33m)\u001b[0m\u001b[1;33m:\u001b[0m\u001b[1;33m\u001b[0m\u001b[1;33m\u001b[0m\u001b[0m\n\u001b[0;32m      5\u001b[0m         \u001b[1;32mif\u001b[0m \u001b[0mstr\u001b[0m\u001b[1;33m.\u001b[0m\u001b[0mfind\u001b[0m\u001b[1;33m(\u001b[0m\u001b[0mltr1\u001b[0m\u001b[1;33m,\u001b[0m\u001b[0mocc1\u001b[0m\u001b[1;33m)\u001b[0m \u001b[1;33m>\u001b[0m \u001b[0mstr\u001b[0m\u001b[1;33m.\u001b[0m\u001b[0mfind\u001b[0m\u001b[1;33m(\u001b[0m\u001b[0mltr2\u001b[0m\u001b[1;33m,\u001b[0m\u001b[0mocc2\u001b[0m\u001b[1;33m)\u001b[0m\u001b[1;33m:\u001b[0m\u001b[1;33m\u001b[0m\u001b[1;33m\u001b[0m\u001b[0m\n",
      "\u001b[1;31mValueError\u001b[0m: not enough values to unpack (expected 3, got 1)"
     ]
    }
   ],
   "source": [
    "st=input(\"Enter string:\") \n",
    "first=input(\"Enter first character:\") \n",
    "second=input(\"Enter second charaacter:\") \n",
    "c=0 \n",
    "count_b=st.count(second) \n",
    "count_a=st.count(first) \n",
    "if(count_a==count_b): \n",
    "    for i in range(len(st)): \n",
    "        if(st[i]==second): \n",
    "            if(st[i-1]==first): \n",
    "                c+=1 \n",
    "             \n",
    "if(c==count_a): \n",
    "    print(first+\" occur before \"+second) \n",
    "else: \n",
    "    print(first+\" not occur before \"+second+\" everytime\") \n",
    "    \n",
    "    "
   ]
  },
  {
   "cell_type": "markdown",
   "metadata": {},
   "source": [
    "Question 3:Create a function that returns the characters from a list or string r on odd or\n",
    "even positions, depending on the specifier s. The specifier will be &quot;odd&quot; for\n",
    "items on odd positions (1, 3, 5, ...) and &quot;even&quot; for items on even positions (2,\n",
    "4, 6, ...)."
   ]
  },
  {
   "cell_type": "code",
   "execution_count": 5,
   "metadata": {},
   "outputs": [
    {
     "name": "stdout",
     "output_type": "stream",
     "text": [
      "Enter whether even or odd: even\n"
     ]
    },
    {
     "data": {
      "text/plain": [
       "[4, 8]"
      ]
     },
     "execution_count": 5,
     "metadata": {},
     "output_type": "execute_result"
    }
   ],
   "source": [
    "def char_at_pos(a,b):\n",
    "    if type(a) == str:\n",
    "        a = list(a)\n",
    "    if b == \"even\":\n",
    "        a = a[1: : 2]\n",
    "    else:\n",
    "        a = a[0: : 2]\n",
    "    return a\n",
    "m = [2,4,6,8,10]\n",
    "n = input(\"Enter whether even or odd: \")\n",
    "char_at_pos(m,n)"
   ]
  },
  {
   "cell_type": "markdown",
   "metadata": {},
   "source": [
    "Question 4:Write a function that returns the greatest common divisor of all list\n",
    "elements. If the greatest common divisor is 1, return 1."
   ]
  },
  {
   "cell_type": "code",
   "execution_count": 15,
   "metadata": {},
   "outputs": [
    {
     "name": "stdout",
     "output_type": "stream",
     "text": [
      "64\n"
     ]
    }
   ],
   "source": [
    "def GCD(a,b):\n",
    "    if a%b == 0:\n",
    "        return b\n",
    "    return GCD(b,a%b)\n",
    "def gcdn():\n",
    "    num = [1024,192,2048,512]\n",
    "    g = GCD(num[0],num[1])\n",
    "    for i in range(2,len(num)):\n",
    "        g = GCD(g,num[i])\n",
    "    print(g)    \n",
    "        \n",
    "gcdn()   \n",
    "    "
   ]
  },
  {
   "cell_type": "markdown",
   "metadata": {},
   "source": [
    "Question 5:A number/string is a palindrome if the digits/characters are the same when\n",
    "read both forward and backward. Examples include &quot;racecar&quot; and 12321.\n",
    "Given a positive number n, check if n or the binary representation of n is\n",
    "palindromic. Return the following:\n",
    "- Decimal only if only n is a palindrome.\n",
    "- Binary only if only the binary representation of n is a palindrome.\n",
    "- Decimal and binary if both are palindromes.\n",
    "- Neither if neither are palindromes."
   ]
  },
  {
   "cell_type": "code",
   "execution_count": 34,
   "metadata": {},
   "outputs": [
    {
     "name": "stdout",
     "output_type": "stream",
     "text": [
      "1306031\n",
      "Only Decimal Plaindrome\n"
     ]
    }
   ],
   "source": [
    "def binary_conv(a):\n",
    "    str1 = \"\"\n",
    "    str2 =\"\"\n",
    "    while a > 0:\n",
    "        j = a % 2\n",
    "        str1 = str(j) + str1\n",
    "        str2 = str2 + str(j)\n",
    "        a = a // 2\n",
    "    if str1 == str2:\n",
    "        return True\n",
    "    return False\n",
    "n = int(input())\n",
    "k = binary_conv(n)\n",
    "n = str(n)\n",
    "if (n == n[: : -1]) and (k == True):\n",
    "    print(\"Both are palindrome\")\n",
    "elif n == n[: : -1] and (k == False):\n",
    "    print(\"Only Decimal Plaindrome\")\n",
    "elif (k == True) and (n != n[: : -1]):\n",
    "    \n",
    "    print(\"Binary Palindrome\")\n",
    "else:\n",
    "    print(\"Neither is palindrome\")\n"
   ]
  },
  {
   "cell_type": "code",
   "execution_count": null,
   "metadata": {},
   "outputs": [],
   "source": []
  }
 ],
 "metadata": {
  "kernelspec": {
   "display_name": "Python 3",
   "language": "python",
   "name": "python3"
  },
  "language_info": {
   "codemirror_mode": {
    "name": "ipython",
    "version": 3
   },
   "file_extension": ".py",
   "mimetype": "text/x-python",
   "name": "python",
   "nbconvert_exporter": "python",
   "pygments_lexer": "ipython3",
   "version": "3.8.3"
  }
 },
 "nbformat": 4,
 "nbformat_minor": 4
}
