{
 "cells": [
  {
   "cell_type": "markdown",
   "metadata": {},
   "source": [
    "# Assignment 10"
   ]
  },
  {
   "cell_type": "markdown",
   "metadata": {},
   "source": [
    "Question 1:Create a function that takes the width, height and character and returns a\n",
    "picture frame as a 2D list."
   ]
  },
  {
   "cell_type": "code",
   "execution_count": 7,
   "metadata": {},
   "outputs": [
    {
     "name": "stdout",
     "output_type": "stream",
     "text": [
      "4\n",
      "3\n",
      "*\n"
     ]
    },
    {
     "data": {
      "text/plain": [
       "[[['*', '*', '*', '*'], ['*', '*', '*', '*'], ['*', '*', '*', '*']]]"
      ]
     },
     "execution_count": 7,
     "metadata": {},
     "output_type": "execute_result"
    }
   ],
   "source": [
    "def get_frame(a,b,char1):\n",
    "    if a <= 2:\n",
    "        return \"Invalid Input\"\n",
    "    lst = [[[char1]*a]*b]\n",
    "    return lst\n",
    "m = int(input())\n",
    "b = int(input())\n",
    "c = input()\n",
    "get_frame(m,b,c)\n",
    "            \n",
    "        "
   ]
  },
  {
   "cell_type": "markdown",
   "metadata": {},
   "source": [
    "Question 2:Write three functions:\n",
    "1. boolean_and\n",
    "2. boolean_or\n",
    "3. boolean_xor\n",
    "These functions should evaluate a list of True and False values, starting from\n",
    "the leftmost element and evaluating pairwise."
   ]
  },
  {
   "cell_type": "code",
   "execution_count": 17,
   "metadata": {},
   "outputs": [
    {
     "data": {
      "text/plain": [
       "False"
      ]
     },
     "execution_count": 17,
     "metadata": {},
     "output_type": "execute_result"
    }
   ],
   "source": [
    "def boolean_and(a):\n",
    "    l = len(a)\n",
    "    prod = a[0]\n",
    "    for i in range(1,l):\n",
    "        prod = prod * a[i]\n",
    "    if prod == 0:\n",
    "        return False\n",
    "    else:\n",
    "        return True\n",
    "        \n",
    "        \n",
    "     \n",
    "lst = [True,True,False,True]\n",
    "boolean_and(lst)\n",
    "        "
   ]
  },
  {
   "cell_type": "code",
   "execution_count": 18,
   "metadata": {},
   "outputs": [
    {
     "data": {
      "text/plain": [
       "True"
      ]
     },
     "execution_count": 18,
     "metadata": {},
     "output_type": "execute_result"
    }
   ],
   "source": [
    "def boolean_or(a):\n",
    "    sum1 = sum(a)\n",
    "    if sum1 == 0:\n",
    "        return False\n",
    "    else:\n",
    "        return True\n",
    "lst1 = [True,True,False,False]\n",
    "boolean_or(lst1)"
   ]
  },
  {
   "cell_type": "code",
   "execution_count": 22,
   "metadata": {},
   "outputs": [
    {
     "data": {
      "text/plain": [
       "False"
      ]
     },
     "execution_count": 22,
     "metadata": {},
     "output_type": "execute_result"
    }
   ],
   "source": [
    "def boolean_xor(a):\n",
    "    counts = 0\n",
    "    for i in a:\n",
    "        if i == True:\n",
    "            counts = counts+ 1\n",
    "    if counts % 2 == 0:\n",
    "        return False\n",
    "    return True\n",
    "lst2 = [True,True,False,False]\n",
    "boolean_xor(lst2)"
   ]
  },
  {
   "cell_type": "markdown",
   "metadata": {},
   "source": [
    "Question 3:Create a function that creates a box based on dimension n."
   ]
  },
  {
   "cell_type": "code",
   "execution_count": 8,
   "metadata": {},
   "outputs": [
    {
     "name": "stdout",
     "output_type": "stream",
     "text": [
      "5\n",
      "#####\n",
      "###\n",
      "###\n",
      "###\n",
      "#####\n"
     ]
    }
   ],
   "source": [
    "def make_bo(n):\n",
    "    \n",
    "    for i in range(n):\n",
    "        if (i == 0) or (i == n-1):\n",
    "            print(\"#\"*n)\n",
    "        else:\n",
    "            print(\"#\"*(n-2))\n",
    "            \n",
    "    \n",
    "n = int(input())\n",
    "make_bo(n)\n",
    "        \n",
    "            "
   ]
  },
  {
   "cell_type": "markdown",
   "metadata": {},
   "source": [
    "Question 4:Given a common phrase, return False if any individual word in the phrase\n",
    "contains duplicate letters. Return True otherwise."
   ]
  },
  {
   "cell_type": "code",
   "execution_count": 25,
   "metadata": {},
   "outputs": [
    {
     "name": "stdout",
     "output_type": "stream",
     "text": [
      "Look before you leap\n"
     ]
    },
    {
     "data": {
      "text/plain": [
       "False"
      ]
     },
     "execution_count": 25,
     "metadata": {},
     "output_type": "execute_result"
    }
   ],
   "source": [
    "def no_duplicate_letters(a):\n",
    "    txt = a.split()\n",
    "    \n",
    "    counts = {}\n",
    "    for i in txt:\n",
    "        for j in i:\n",
    "            counts[j] = counts.get(j,0) + 1\n",
    "        for i in counts:\n",
    "            if counts[i] > 1:\n",
    "                return False\n",
    "        counts = {}\n",
    "    return True    \n",
    "m = input()\n",
    "no_duplicate_letters(m)"
   ]
  },
  {
   "cell_type": "markdown",
   "metadata": {},
   "source": [
    "Question 5:Write a regular expression that will match the states that voted yes to\n",
    "President Trump impeachment. You must use RegEx positive lookahead."
   ]
  },
  {
   "cell_type": "markdown",
   "metadata": {},
   "source": [
    "txt = &quot;Texas = no, California = yes, Florida = yes, Michigan = no&quot;\n",
    "pattern = &quot;yourregularexpressionhere&quot;"
   ]
  },
  {
   "cell_type": "markdown",
   "metadata": {},
   "source": [
    "re.findall(pattern, txt) ➞ [&quot;California&quot;, &quot;Florida&quot;]"
   ]
  },
  {
   "cell_type": "code",
   "execution_count": 1,
   "metadata": {},
   "outputs": [
    {
     "data": {
      "text/plain": [
       "['California', 'Florida']"
      ]
     },
     "execution_count": 1,
     "metadata": {},
     "output_type": "execute_result"
    }
   ],
   "source": [
    "import re\n",
    "txt = \"Texas = no, California = yes, Florida = yes, Michigan = no\"\n",
    "re.findall('(\\w+)\\s*=\\s*(?=yes)',txt)"
   ]
  },
  {
   "cell_type": "code",
   "execution_count": null,
   "metadata": {},
   "outputs": [],
   "source": []
  }
 ],
 "metadata": {
  "kernelspec": {
   "display_name": "Python 3",
   "language": "python",
   "name": "python3"
  },
  "language_info": {
   "codemirror_mode": {
    "name": "ipython",
    "version": 3
   },
   "file_extension": ".py",
   "mimetype": "text/x-python",
   "name": "python",
   "nbconvert_exporter": "python",
   "pygments_lexer": "ipython3",
   "version": "3.8.3"
  }
 },
 "nbformat": 4,
 "nbformat_minor": 4
}
