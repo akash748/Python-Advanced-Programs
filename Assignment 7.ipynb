{
 "cells": [
  {
   "cell_type": "markdown",
   "metadata": {},
   "source": [
    "# Assignment 7"
   ]
  },
  {
   "cell_type": "markdown",
   "metadata": {},
   "source": [
    "Question 1:Write a function that counts how many concentric layers a rug."
   ]
  },
  {
   "cell_type": "code",
   "execution_count": 3,
   "metadata": {},
   "outputs": [
    {
     "data": {
      "text/plain": [
       "3"
      ]
     },
     "execution_count": 3,
     "metadata": {},
     "output_type": "execute_result"
    }
   ],
   "source": [
    "def concentrix(a):\n",
    "    n = len(a[0])\n",
    "    return ((n//2) - 1)\n",
    "concentrix([\"AAAAAAAAA\",\"ABBBBBBBA\",\"AABBAAABB\",\"ABBBBBBBA\",\"AAAAAAAAA\"])\n",
    "              "
   ]
  },
  {
   "cell_type": "markdown",
   "metadata": {},
   "source": [
    "Question 2:There are many different styles of music and many albums exhibit multiple\n",
    "styles. Create a function that takes a list of musical styles from albums and\n",
    "returns how many styles are unique."
   ]
  },
  {
   "cell_type": "code",
   "execution_count": 2,
   "metadata": {},
   "outputs": [
    {
     "data": {
      "text/plain": [
       "9"
      ]
     },
     "execution_count": 2,
     "metadata": {},
     "output_type": "execute_result"
    }
   ],
   "source": [
    "def is_unique(a):\n",
    "    counts = 0\n",
    "    lst = []\n",
    "    \n",
    "    for i in a:\n",
    "        if i not in lst:\n",
    "            counts = counts + 1\n",
    "            lst.append(i)\n",
    "    return counts\n",
    "m = [\"Dub\",\"Dancehall\",\"Industrial\",\"Heavy Metal\",\"Techno\",\"Dubstep\",\"Pop\",\"Euro\",\"Industrial\",\"Techno\",\"Minimal\"]\n",
    "is_unique(m)\n",
    "            \n",
    "        "
   ]
  },
  {
   "cell_type": "markdown",
   "metadata": {},
   "source": [
    "Question 3:Create a function that finds a target number in a list of prime numbers.\n",
    "Implement a binary search algorithm in your function. The target number will\n",
    "be from 2 through 97. If the target is prime then return \"yes\" else return \"no\""
   ]
  },
  {
   "cell_type": "code",
   "execution_count": 3,
   "metadata": {},
   "outputs": [
    {
     "name": "stdout",
     "output_type": "stream",
     "text": [
      "4\n"
     ]
    },
    {
     "data": {
      "text/plain": [
       "'no'"
      ]
     },
     "execution_count": 3,
     "metadata": {},
     "output_type": "execute_result"
    }
   ],
   "source": [
    "def searching(a,target):\n",
    "    for i in a:\n",
    "        if i == target:\n",
    "            return \"yes\"\n",
    "        \n",
    "    return \"no\"\n",
    "primes = [2, 3, 5, 7, 11, 13, 17, 19, 23, 29, 31, 37, 41, 43, 47, 53, 59, 61, 67,\n",
    "71, 73, 79, 83, 89, 97]\n",
    "k = int(input())\n",
    "searching(primes,k)"
   ]
  },
  {
   "cell_type": "markdown",
   "metadata": {},
   "source": [
    "Question 4:Create a function that takes in n, a, b and returns the number of positive\n",
    "values raised to the nth power that lie in the range [a, b], inclusive."
   ]
  },
  {
   "cell_type": "code",
   "execution_count": 4,
   "metadata": {},
   "outputs": [
    {
     "data": {
      "text/plain": [
       "3"
      ]
     },
     "execution_count": 4,
     "metadata": {},
     "output_type": "execute_result"
    }
   ],
   "source": [
    "def power_ranger(n,a,b):\n",
    "    counts = 0\n",
    "    k = a ** (1/n)\n",
    "    k = round(k,0)\n",
    "    while (k ** n) <= b:\n",
    "        counts = counts + 1\n",
    "        k = k + 1\n",
    "    return counts\n",
    "\n",
    "power_ranger(4,250,1300)"
   ]
  },
  {
   "cell_type": "markdown",
   "metadata": {},
   "source": [
    "Question 5:Given a number, return the difference between the maximum and minimum\n",
    "numbers that can be formed when the digits are rearranged."
   ]
  },
  {
   "cell_type": "code",
   "execution_count": 12,
   "metadata": {},
   "outputs": [
    {
     "name": "stdout",
     "output_type": "stream",
     "text": [
      "972882\n"
     ]
    },
    {
     "data": {
      "text/plain": [
       "760833"
      ]
     },
     "execution_count": 12,
     "metadata": {},
     "output_type": "execute_result"
    }
   ],
   "source": [
    "def maxim(a):\n",
    "    lst = []\n",
    "    mini = \"\"\n",
    "    maxi = \"\"\n",
    "    while a > 0:\n",
    "        j = a % 10\n",
    "        lst.append(j)\n",
    "        a = a // 10\n",
    "    lst.sort()\n",
    "    for i in lst:\n",
    "        mini = mini + str(i)\n",
    "        maxi = str(i) + maxi   \n",
    "    return int(maxi) - int(mini)\n",
    "    \n",
    "k = int(input())\n",
    "\n",
    "maxim(k)\n",
    "        "
   ]
  }
 ],
 "metadata": {
  "kernelspec": {
   "display_name": "Python 3",
   "language": "python",
   "name": "python3"
  },
  "language_info": {
   "codemirror_mode": {
    "name": "ipython",
    "version": 3
   },
   "file_extension": ".py",
   "mimetype": "text/x-python",
   "name": "python",
   "nbconvert_exporter": "python",
   "pygments_lexer": "ipython3",
   "version": "3.8.3"
  }
 },
 "nbformat": 4,
 "nbformat_minor": 4
}
