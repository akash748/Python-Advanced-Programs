{
 "cells": [
  {
   "cell_type": "markdown",
   "metadata": {},
   "source": [
    "# Assignment 14"
   ]
  },
  {
   "cell_type": "markdown",
   "metadata": {},
   "source": [
    "Question 1:Given a list of numbers, create a function that removes 25% from every\n",
    "number in the list except the smallest number, and adds the total amount\n",
    "removed to the smallest number."
   ]
  },
  {
   "cell_type": "code",
   "execution_count": 20,
   "metadata": {},
   "outputs": [
    {
     "data": {
      "text/plain": [
       "[20.5, 7.5, 6.0]"
      ]
     },
     "execution_count": 20,
     "metadata": {},
     "output_type": "execute_result"
    }
   ],
   "source": [
    "def show_the_love(a):\n",
    "    rem = 0\n",
    "    index = 0\n",
    "    \n",
    "    \n",
    "    for i in range(len(a)):\n",
    "        if a[i] > min(a):\n",
    "            \n",
    "            rem = rem + (a[i] * 0.25)\n",
    "            a[i] = a[i] * 0.75\n",
    "        else:\n",
    "            index = i\n",
    "    a[index] = a[index] + rem\n",
    "    return a\n",
    "lst = [16,10,8]\n",
    "show_the_love(lst)"
   ]
  },
  {
   "cell_type": "markdown",
   "metadata": {},
   "source": [
    "Question 2:Create a function that takes in two words as input and returns a list of three\n",
    "elements, in the following order:\n",
    "1.Shared letters between two words.\n",
    "2.Letters unique to word 1.\n",
    "3.Letters unique to word 2.\n",
    "Each element should have unique letters, and have each letter be\n",
    "alphabetically sorted."
   ]
  },
  {
   "cell_type": "code",
   "execution_count": 25,
   "metadata": {},
   "outputs": [
    {
     "name": "stdout",
     "output_type": "stream",
     "text": [
      "sharp\n",
      "soap\n"
     ]
    },
    {
     "data": {
      "text/plain": [
       "['aps', 'hr', 'o']"
      ]
     },
     "execution_count": 25,
     "metadata": {},
     "output_type": "execute_result"
    }
   ],
   "source": [
    "def letters(a,b):\n",
    "    k = \"\"\n",
    "    p = \"\"\n",
    "    j = \"\"\n",
    "    l = []\n",
    "    for i in a:\n",
    "        if i in b:\n",
    "            k = k + i\n",
    "        else:\n",
    "            p = p + i\n",
    "    for i in b:\n",
    "        if i not in a:\n",
    "            j = j + i\n",
    "    l.append(sorted(k))\n",
    "    l.append(sorted(p))\n",
    "    l.append(sorted(j))\n",
    "    l = [''.join(sorted(ele)) for ele in l]\n",
    "    return l\n",
    "m = input()\n",
    "n = input()\n",
    "letters(m,n)"
   ]
  },
  {
   "cell_type": "markdown",
   "metadata": {},
   "source": [
    "Question 3:Write a function that pairs the first number in an array with the last, the\n",
    "second number with the second to last, etc."
   ]
  },
  {
   "cell_type": "code",
   "execution_count": 23,
   "metadata": {},
   "outputs": [
    {
     "data": {
      "text/plain": [
       "[[1, 1], [2, 7], [3, 6]]"
      ]
     },
     "execution_count": 23,
     "metadata": {},
     "output_type": "execute_result"
    }
   ],
   "source": [
    "def pairs(a):\n",
    "    l = []\n",
    "    for i in range(int(len(a)/2)):\n",
    "        l.append([a[i],a[-i]])\n",
    "    return l\n",
    "lst = [1,2,3,4,5,6,7]\n",
    "pairs(lst)"
   ]
  },
  {
   "cell_type": "markdown",
   "metadata": {},
   "source": [
    "Question 4:Write a function that adds two numbers. The catch, however, is that the\n",
    "numbers will be strings."
   ]
  },
  {
   "cell_type": "markdown",
   "metadata": {},
   "source": [
    "Examples\n",
    "\n",
    "add_str_nums(&quot;4&quot;, &quot;5&quot;) ➞ &quot;9&quot;\n",
    "\n",
    "add_str_nums(&quot;abcdefg&quot;, &quot;3&quot;) ➞ &quot;-1&quot;\n",
    "\n",
    "add_str_nums(&quot;1&quot;, &quot;&quot;) ➞ &quot;1&quot;\n",
    "\n",
    "add_str_nums(&quot;1874682736267235927359283579235789257&quot;,\n",
    "\n",
    "&quot;32652983572985729&quot;) ➞ &quot;1874682736267235927391936562808774986&quot;"
   ]
  },
  {
   "cell_type": "code",
   "execution_count": 3,
   "metadata": {},
   "outputs": [
    {
     "name": "stdout",
     "output_type": "stream",
     "text": [
      "8\n",
      "4\n"
     ]
    },
    {
     "data": {
      "text/plain": [
       "'12'"
      ]
     },
     "execution_count": 3,
     "metadata": {},
     "output_type": "execute_result"
    }
   ],
   "source": [
    "def add_str_nums(a,b):\n",
    "    sum1 = 0\n",
    "    try:\n",
    "        sum1 = float(a) + float(b)\n",
    "        return str(int(sum1))\n",
    "    except:\n",
    "        return -1\n",
    "a = input()\n",
    "b = input()\n",
    "add_str_nums(a,b)"
   ]
  },
  {
   "cell_type": "markdown",
   "metadata": {},
   "source": [
    "Question 5:lPaeesh le pemu mnxit ehess rtnisg! Oh, sorry, that was supposed to say:\n",
    "        \n",
    "Please help me unmix these strings!\n",
    "\n",
    "Somehow my strings have all become mixed up; every pair of characters has\n",
    "\n",
    "been swapped. Help me undo this so I can understand my strings again.\n",
    "\n",
    "Examples\n",
    "\n",
    "unmix(&quot;123456&quot;) ➞ &quot;214365&quot;\n",
    "\n",
    "unmix(&quot;hTsii s aimex dpus rtni.g&quot;) ➞ &quot;This is a mixed up string.&quot;\n",
    "\n",
    "unmix(&quot;badce&quot;) ➞ &quot;abcde&quot;"
   ]
  },
  {
   "cell_type": "code",
   "execution_count": 8,
   "metadata": {},
   "outputs": [
    {
     "name": "stdout",
     "output_type": "stream",
     "text": [
      "hTsii s aimex dpus rtni.g\n"
     ]
    },
    {
     "data": {
      "text/plain": [
       "'This i siaem xpdsunt.i'"
      ]
     },
     "execution_count": 8,
     "metadata": {},
     "output_type": "execute_result"
    }
   ],
   "source": [
    "def unmix(a):\n",
    "    ans = \"\"\n",
    "    i = 0\n",
    "    while i < len(a) :\n",
    "        if i + 1 < len(a) and a[i] != \" \":\n",
    "            ans = ans + a[i+1]\n",
    "            ans = ans + a[i]\n",
    "        i = i + 2\n",
    "    return ans    \n",
    "a = input()\n",
    "unmix(a)\n",
    "        "
   ]
  },
  {
   "cell_type": "code",
   "execution_count": null,
   "metadata": {},
   "outputs": [],
   "source": []
  }
 ],
 "metadata": {
  "kernelspec": {
   "display_name": "Python 3",
   "language": "python",
   "name": "python3"
  },
  "language_info": {
   "codemirror_mode": {
    "name": "ipython",
    "version": 3
   },
   "file_extension": ".py",
   "mimetype": "text/x-python",
   "name": "python",
   "nbconvert_exporter": "python",
   "pygments_lexer": "ipython3",
   "version": "3.8.3"
  }
 },
 "nbformat": 4,
 "nbformat_minor": 4
}
