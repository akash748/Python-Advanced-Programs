{
 "cells": [
  {
   "cell_type": "markdown",
   "metadata": {},
   "source": [
    "# Assignment 4"
   ]
  },
  {
   "cell_type": "markdown",
   "metadata": {},
   "source": [
    "Question 1:In mathematics, the Fibonacci numbers, commonly denoted Fn, form a\n",
    "sequence, called the Fibonacci sequence, such that each number is the sum\n",
    "of the two preceding ones, starting from 0 and 1:"
   ]
  },
  {
   "cell_type": "code",
   "execution_count": null,
   "metadata": {},
   "outputs": [
    {
     "name": "stdout",
     "output_type": "stream",
     "text": [
      "50\n"
     ]
    }
   ],
   "source": [
    "def fastfib(a):\n",
    "    assert a >= 0 and int(a) == a,\"Invalid Input\"\n",
    "    if a in [0,1]:\n",
    "        return a\n",
    "    else:\n",
    "        return fastfib(a-1) + fastfib(a-2)\n",
    "n = int(input())\n",
    "fastfib(n)"
   ]
  },
  {
   "cell_type": "markdown",
   "metadata": {},
   "source": [
    "Question 2:Create a function that takes a strings characters as ASCII and returns each\n",
    "characters hexadecimal value as a string."
   ]
  },
  {
   "cell_type": "code",
   "execution_count": null,
   "metadata": {},
   "outputs": [],
   "source": [
    "def change(a):\n",
    "    hexa = \"\"\n",
    "    for i in range(len(a)):\n",
    "        ch = a[i]\n",
    "        asc = ord(ch)\n",
    "        part = hex(asc)\n",
    "        hexa = hexa + \" \" + part\n",
    "    return hexa\n",
    "n = input()\n",
    "change(n)"
   ]
  },
  {
   "cell_type": "markdown",
   "metadata": {},
   "source": [
    "Question 3:Someone has attempted to censor my strings by replacing every vowel\n",
    "with a *, l*k* th*s. Luckily, I've been able to find the vowels that were\n",
    "removed.\n",
    "Given a censored string and a string of the censored vowels, return the\n",
    "original uncensored string."
   ]
  },
  {
   "cell_type": "code",
   "execution_count": 18,
   "metadata": {},
   "outputs": [
    {
     "name": "stdout",
     "output_type": "stream",
     "text": [
      "Wh*r* d*d my v*w*ls g*\n",
      "eeioeo\n"
     ]
    },
    {
     "data": {
      "text/plain": [
       "'Where did my vowels go'"
      ]
     },
     "execution_count": 18,
     "metadata": {},
     "output_type": "execute_result"
    }
   ],
   "source": [
    "def censored(a,b):\n",
    "    new = \"\"\n",
    "    counts = 0\n",
    "    for i in range(len(a)):\n",
    "        if a[i] == \"*\":\n",
    "            new = new + b[counts]\n",
    "            counts = counts + 1\n",
    "        else:\n",
    "            new = new + a[i]\n",
    "            \n",
    "    return new       \n",
    "            \n",
    "n = input()\n",
    "m = input()\n",
    "censored(n,m)\n",
    "            "
   ]
  },
  {
   "cell_type": "markdown",
   "metadata": {},
   "source": [
    "Question 4:Write a function that takes an IP address and returns the domain name\n",
    "using PTR DNS records."
   ]
  },
  {
   "cell_type": "code",
   "execution_count": 12,
   "metadata": {},
   "outputs": [
    {
     "name": "stdout",
     "output_type": "stream",
     "text": [
      "8.8.8.8.in-addr.arpa\n",
      "dns.google.\n"
     ]
    }
   ],
   "source": [
    "import dns.resolver\n",
    "\n",
    "domain = input()\n",
    "answers = dns.resolver.resolve(domain,'PTR')\n",
    "for i in answers:\n",
    "    print(i.to_text())"
   ]
  },
  {
   "cell_type": "markdown",
   "metadata": {},
   "source": [
    "Question 5:Create a function that takes an integer n and returns the factorial of\n",
    "factorials. See below examples for a better understanding:"
   ]
  },
  {
   "cell_type": "code",
   "execution_count": 3,
   "metadata": {},
   "outputs": [
    {
     "name": "stdout",
     "output_type": "stream",
     "text": [
      "Collecting dnspython\n",
      "  Downloading dnspython-2.1.0-py3-none-any.whl (241 kB)\n",
      "Installing collected packages: dnspython\n",
      "Successfully installed dnspython-2.1.0\n"
     ]
    }
   ],
   "source": [
    "!pip install dnspython"
   ]
  },
  {
   "cell_type": "code",
   "execution_count": 2,
   "metadata": {},
   "outputs": [
    {
     "name": "stdout",
     "output_type": "stream",
     "text": [
      "5\n"
     ]
    },
    {
     "data": {
      "text/plain": [
       "34560"
      ]
     },
     "execution_count": 2,
     "metadata": {},
     "output_type": "execute_result"
    }
   ],
   "source": [
    "def fact(n):\n",
    "    f = 1\n",
    "    sum1 = 1\n",
    "    \n",
    "    while n > 0:\n",
    "        for i in range(1,n+1):\n",
    "            f = (f * i)\n",
    "        sum1 = sum1 * f\n",
    "        f = 1\n",
    "        n = n - 1\n",
    "    return sum1\n",
    "k = int(input())\n",
    "            \n",
    "fact(k)        "
   ]
  },
  {
   "cell_type": "code",
   "execution_count": null,
   "metadata": {},
   "outputs": [],
   "source": []
  }
 ],
 "metadata": {
  "kernelspec": {
   "display_name": "Python 3",
   "language": "python",
   "name": "python3"
  },
  "language_info": {
   "codemirror_mode": {
    "name": "ipython",
    "version": 3
   },
   "file_extension": ".py",
   "mimetype": "text/x-python",
   "name": "python",
   "nbconvert_exporter": "python",
   "pygments_lexer": "ipython3",
   "version": "3.8.3"
  }
 },
 "nbformat": 4,
 "nbformat_minor": 4
}
