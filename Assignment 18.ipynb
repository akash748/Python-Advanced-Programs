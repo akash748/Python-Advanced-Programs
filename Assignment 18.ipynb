{
 "cells": [
  {
   "cell_type": "markdown",
   "metadata": {},
   "source": [
    "# Assignment 18"
   ]
  },
  {
   "cell_type": "markdown",
   "metadata": {},
   "source": [
    "Question 1:A robot has been given a list of movement instructions. Each instruction is\n",
    "either left, right, up or down, followed by a distance to move. The robot starts\n",
    "at [0, 0]. You want to calculate where the robot will end up and return its final\n",
    "position as a list.\n",
    "To illustrate, if the robot is given the following instructions:\n",
    "[&quot;right 10&quot;, &quot;up 50&quot;, &quot;left 30&quot;, &quot;down 10&quot;]\n",
    "It will end up 20 left and 40 up from where it started, so we return [-20, 40]."
   ]
  },
  {
   "cell_type": "code",
   "execution_count": null,
   "metadata": {},
   "outputs": [],
   "source": [
    "import math\n",
    "\n",
    "x, y = 0, 0\n",
    "\n",
    "while True:\n",
    "    step = input(\"Type in UP/DOWN/LEFT/RIGHT #step number: \")\n",
    "\n",
    "    if step == \"\":\n",
    "        break\n",
    "\n",
    "    else:\n",
    "        step = step.split(\" \")\n",
    "\n",
    "        if step[0] == \"UP\":\n",
    "            y = y + int(step[1])\n",
    "        elif step[0] == \"DOWN\":\n",
    "            y = y - int(step[1])\n",
    "        elif step[0] == \"LEFT\":\n",
    "            x = x - int(step[1])\n",
    "        elif step[0] == \"RIGHT\":\n",
    "            x = x + int(step[1])\n",
    "\n",
    "c = math.sqrt(x**2 + y**2)\n",
    "\n",
    "print(\"Distance:\", c)\n",
    "    "
   ]
  },
  {
   "cell_type": "markdown",
   "metadata": {},
   "source": [
    "Question 2:Write a function that will return the longest word in a sentence. In cases\n",
    "where more than one word is found, return the first one."
   ]
  },
  {
   "cell_type": "code",
   "execution_count": 20,
   "metadata": {},
   "outputs": [
    {
     "name": "stdout",
     "output_type": "stream",
     "text": [
      "Forgetfulness is by all means powerless\n"
     ]
    },
    {
     "data": {
      "text/plain": [
       "'Forgetfulness'"
      ]
     },
     "execution_count": 20,
     "metadata": {},
     "output_type": "execute_result"
    }
   ],
   "source": [
    "def find_longest(a):\n",
    "    a = a.split()\n",
    "    big = len(a[0])\n",
    "    bigg = \"\"\n",
    "    for i in range(len(a)):\n",
    "        if len(a[i]) >len(bigg):\n",
    "            bigg = a[i]\n",
    "    for i in a:\n",
    "        if len(bigg) == len(i):\n",
    "            bigg = i\n",
    "            break\n",
    "    return bigg        \n",
    "        \n",
    "        \n",
    "a = input()\n",
    "find_longest(a)\n",
    "        \n",
    "            "
   ]
  },
  {
   "cell_type": "markdown",
   "metadata": {},
   "source": [
    "Question 3:Create a function to check if a candidate is qualified in an imaginary coding\n",
    "interview of an imaginary tech startup.\n",
    "The criteria for a candidate to be qualified in the coding interview is:\n",
    "1. The candidate should have complete all the questions.\n",
    "2. The maximum time given to complete the interview is 120 minutes.\n",
    "3. The maximum time given for very easy questions is 5 minutes each.\n",
    "4. The maximum time given for easy questions is 10 minutes each.\n",
    "5. The maximum time given for medium questions is 15 minutes each.\n",
    "6. The maximum time given for hard questions is 20 minutes each.\n",
    "\n",
    "If all the above conditions are satisfied, return &quot;qualified&quot;, else return\n",
    "&quot;disqualified&quot;.\n",
    "You will be given a list of time taken by a candidate to solve a particular\n",
    "question and the total time taken by the candidate to complete the interview.\n",
    "Given a list , in a true condition will always be in the format [very easy, very\n",
    "easy, easy, easy, medium, medium, hard, hard].\n",
    "The maximum time to complete the interview includes a buffer time of 20\n",
    "minutes."
   ]
  },
  {
   "cell_type": "code",
   "execution_count": 25,
   "metadata": {},
   "outputs": [
    {
     "name": "stdout",
     "output_type": "stream",
     "text": [
      "120\n"
     ]
    },
    {
     "data": {
      "text/plain": [
       "True"
      ]
     },
     "execution_count": 25,
     "metadata": {},
     "output_type": "execute_result"
    }
   ],
   "source": [
    "def interview(a,b):\n",
    "    very_easy = a[0:2]\n",
    "    easy = a[2:4]\n",
    "    medium = a[4:6]\n",
    "    hard = a[6:]\n",
    "    counts = 0\n",
    "    for i in range(2):\n",
    "        if (very_easy[i] > 5) or (easy[i] > 10) or (medium[i] > 15) or (hard[i] > 20) or (b > 120):\n",
    "            \n",
    "            counts = counts + 1\n",
    "    if counts != 0:\n",
    "        return False\n",
    "    return True\n",
    "m = [5,5,10,10,15,15,20,20]\n",
    "n = int(input())\n",
    "interview(m,n)"
   ]
  },
  {
   "cell_type": "markdown",
   "metadata": {},
   "source": [
    "Question 4:Write a function that divides a list into chunks of size n, where n is the\n",
    "length of each chunk."
   ]
  },
  {
   "cell_type": "code",
   "execution_count": 28,
   "metadata": {},
   "outputs": [
    {
     "name": "stdout",
     "output_type": "stream",
     "text": [
      "3\n"
     ]
    },
    {
     "data": {
      "text/plain": [
       "[[2, 3, 4], [5, 6, 7]]"
      ]
     },
     "execution_count": 28,
     "metadata": {},
     "output_type": "execute_result"
    }
   ],
   "source": [
    "def chunkify(a,b):\n",
    "    final = [a[i * b:(i + 1) * b] for i in range((len(a) + b - 1) // b )] \n",
    "    return final\n",
    "a = [2,3,4,5,6,7]\n",
    "b = int(input())\n",
    "chunkify(a,b)"
   ]
  },
  {
   "cell_type": "markdown",
   "metadata": {},
   "source": [
    "Question 5:You are given a list of strings consisting of grocery items, with prices in\n",
    "parentheses. Return a list of prices in float format."
   ]
  },
  {
   "cell_type": "code",
   "execution_count": 33,
   "metadata": {},
   "outputs": [
    {
     "data": {
      "text/plain": [
       "['1.99', '5.99', '0.75']"
      ]
     },
     "execution_count": 33,
     "metadata": {},
     "output_type": "execute_result"
    }
   ],
   "source": [
    "def get_prices(a):\n",
    "    l = []\n",
    "    k = \"\"\n",
    "    for i in a:\n",
    "        for j in range(len(i)):\n",
    "            if i[j] == \"$\":\n",
    "                k = i[j+1:-1]\n",
    "                       \n",
    "                l.append(k)\n",
    "    return l                   \n",
    "get_prices([\n",
    "\"artichokes ($1.99)\",\n",
    "\"rotiserrie chicken ($5.99)\",\n",
    "\"gum ($0.75)\"\n",
    "])"
   ]
  },
  {
   "cell_type": "code",
   "execution_count": null,
   "metadata": {},
   "outputs": [],
   "source": [
    "\n"
   ]
  }
 ],
 "metadata": {
  "kernelspec": {
   "display_name": "Python 3",
   "language": "python",
   "name": "python3"
  },
  "language_info": {
   "codemirror_mode": {
    "name": "ipython",
    "version": 3
   },
   "file_extension": ".py",
   "mimetype": "text/x-python",
   "name": "python",
   "nbconvert_exporter": "python",
   "pygments_lexer": "ipython3",
   "version": "3.8.3"
  }
 },
 "nbformat": 4,
 "nbformat_minor": 4
}
