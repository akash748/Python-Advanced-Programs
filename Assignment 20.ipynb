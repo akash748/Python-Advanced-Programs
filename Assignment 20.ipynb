{
 "cells": [
  {
   "cell_type": "markdown",
   "metadata": {},
   "source": [
    "# Assignment 20"
   ]
  },
  {
   "cell_type": "markdown",
   "metadata": {},
   "source": [
    "Question 1:Create a function based on the input and output. Look at the examples,\n",
    "there is a pattern.\n"
   ]
  },
  {
   "cell_type": "code",
   "execution_count": 3,
   "metadata": {},
   "outputs": [
    {
     "name": "stdout",
     "output_type": "stream",
     "text": [
      "p.one.two.three\n"
     ]
    },
    {
     "data": {
      "text/plain": [
       "'<p class= one two three'"
      ]
     },
     "execution_count": 3,
     "metadata": {},
     "output_type": "execute_result"
    }
   ],
   "source": [
    "def secret(a):\n",
    "    a = a.split(\".\")\n",
    "    k = \"<\" + a[0] + \" \" + \"class=\"\n",
    "    for i in range(1,len(a)):\n",
    "        k = k + \" \" + a[i]\n",
    "    return k\n",
    "k = input()\n",
    "secret(k)"
   ]
  },
  {
   "cell_type": "markdown",
   "metadata": {},
   "source": [
    "Questiion 2:Create a function which counts how many lone 1s appear in a given\n",
    "number. Lone means the number doesn&#39;t appear twice or more in a row."
   ]
  },
  {
   "cell_type": "code",
   "execution_count": 21,
   "metadata": {},
   "outputs": [
    {
     "name": "stdout",
     "output_type": "stream",
     "text": [
      "921561\n"
     ]
    },
    {
     "data": {
      "text/plain": [
       "2"
      ]
     },
     "execution_count": 21,
     "metadata": {},
     "output_type": "execute_result"
    }
   ],
   "source": [
    "def count_lone_ones(a):\n",
    "    count = 0\n",
    "    i = 0\n",
    "    while i < len(a):\n",
    "        if i not in [0,len(a)-1]:\n",
    "            if a[i] == '1' and a[i+1] != '1' and a[i-1] != \"1\":\n",
    "                count = count + 1\n",
    "        elif i == 0:\n",
    "            if a[i] == \"1\" and a[i+1] != \"1\":\n",
    "                count = count + 1\n",
    "        elif i == (len(a) - 1):\n",
    "            \n",
    "            if a[i] == \"1\" and a[i-1] != \"1\":\n",
    "                \n",
    "                count = count  + 1\n",
    "        i = i + 1\n",
    "        \n",
    "    return count    \n",
    "n = input()\n",
    "count_lone_ones(n)"
   ]
  },
  {
   "cell_type": "markdown",
   "metadata": {},
   "source": [
    "Question 3:Write a method that accepts two integer parameters rows and cols. The\n",
    "output is a 2d array of numbers displayed in column-major order, meaning the\n",
    "numbers shown increase sequentially down each column and wrap to the top\n",
    "of the next column to the right once the bottom of the current column is\n",
    "reached."
   ]
  },
  {
   "cell_type": "code",
   "execution_count": 42,
   "metadata": {},
   "outputs": [
    {
     "name": "stdout",
     "output_type": "stream",
     "text": [
      "5\n",
      "3\n"
     ]
    },
    {
     "data": {
      "text/plain": [
       "[[1, 6, 11], [2, 7, 12], [3, 8, 13], [4, 9, 14], [5, 10, 15]]"
      ]
     },
     "execution_count": 42,
     "metadata": {},
     "output_type": "execute_result"
    }
   ],
   "source": [
    "def printGrid(row,column):\n",
    "    count = 0\n",
    "    l = []\n",
    "    for i in range(row):\n",
    "        f = []\n",
    "        count = i + 1\n",
    "        for j in range(column):\n",
    "            f.append(count)\n",
    "            count = count + row\n",
    "        l.append(f)    \n",
    "            \n",
    "           \n",
    "    return l\n",
    "row = int(input())\n",
    "column = int(input())\n",
    "printGrid(row,column)"
   ]
  },
  {
   "cell_type": "markdown",
   "metadata": {},
   "source": [
    "Question 4:Given a list of integers, return the smallest positive integer not present in\n",
    "the list.\n",
    "Here is a representative example. Consider the list:\n",
    "[-2, 6, 4, 5, 7, -1, 7, 1, 3, 6, 6, -2, 9, 10, 2, 2]\n",
    "After reordering, the list becomes:\n",
    "[-2, -2, -1, 1, 2, 2, 3, 4, 5, 6, 6, 6, 7, 7, 9, 10]\n",
    "from which we see that the smallest missing positive integer is 8."
   ]
  },
  {
   "cell_type": "code",
   "execution_count": 46,
   "metadata": {},
   "outputs": [
    {
     "data": {
      "text/plain": [
       "2"
      ]
     },
     "execution_count": 46,
     "metadata": {},
     "output_type": "execute_result"
    }
   ],
   "source": [
    "def min_miss_ps(lst):\n",
    "    lst.sort()\n",
    "    maxi = max(lst)\n",
    "    for i in range(1,maxi):\n",
    "        if i not in lst:\n",
    "            return i\n",
    "    return \"Not exist\"\n",
    "lst = [5,9, -2, 0, 1, 3, 9, 3, 8, 9]\n",
    "min_miss_ps(lst)\n"
   ]
  },
  {
   "cell_type": "markdown",
   "metadata": {},
   "source": [
    "Question 5:Google is launching a network of autonomous pizza delivery drones and\n",
    "wants you to create a flexible rewards system (Pizza Points™) that can be\n",
    "tweaked in the future. The rules are simple: if a customer has made at least N\n",
    "orders of at least Y price, they get a FREE pizza!\n",
    "Create a function that takes a dictionary of customers, a minimum number of\n",
    "orders and a minimum order price. Return a list of customers that are eligible\n",
    "for a free pizza."
   ]
  },
  {
   "cell_type": "code",
   "execution_count": null,
   "metadata": {},
   "outputs": [],
   "source": [
    "def pizza_points(cust,a,b):\n",
    "    li=[]\n",
    "    for key,value in cust.items():\n",
    "                        count = 0\n",
    "                        for i in value :\n",
    "                            if i > b :\n",
    "                                count = count + 1\n",
    "                        if count>=a:\n",
    "                              li.append(key)\n",
    "    return li"
   ]
  }
 ],
 "metadata": {
  "kernelspec": {
   "display_name": "Python 3",
   "language": "python",
   "name": "python3"
  },
  "language_info": {
   "codemirror_mode": {
    "name": "ipython",
    "version": 3
   },
   "file_extension": ".py",
   "mimetype": "text/x-python",
   "name": "python",
   "nbconvert_exporter": "python",
   "pygments_lexer": "ipython3",
   "version": "3.8.3"
  }
 },
 "nbformat": 4,
 "nbformat_minor": 4
}
